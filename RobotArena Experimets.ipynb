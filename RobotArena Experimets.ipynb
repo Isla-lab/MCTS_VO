{
 "cells": [
  {
   "cell_type": "markdown",
   "id": "ea745379-9336-49a7-a6eb-916e9a11187b",
   "metadata": {
    "jp-MarkdownHeadingCollapsed": true,
    "tags": []
   },
   "source": [
    "# Sample Towards Goal"
   ]
  },
  {
   "cell_type": "code",
   "execution_count": null,
   "id": "679453ab-8ddb-430f-9258-16ec9d6f9271",
   "metadata": {},
   "outputs": [],
   "source": [
    "from numpy import arctan2\n",
    "import numpy as np\n",
    "import matplotlib.pyplot as plt\n",
    "import random\n",
    "import os\n",
    "import math"
   ]
  },
  {
   "cell_type": "code",
   "execution_count": null,
   "id": "b1d26c7c-f5c6-4b74-bcbe-16d26e0b7a3c",
   "metadata": {},
   "outputs": [],
   "source": [
    "%matplotlib inline"
   ]
  },
  {
   "cell_type": "code",
   "execution_count": null,
   "id": "cfb50cc1-78e3-4e96-bb83-8376fe584f0b",
   "metadata": {},
   "outputs": [],
   "source": [
    "seed_value = 0\n",
    "random.seed(seed_value)\n",
    "np.random.seed(seed_value)\n",
    "os.environ['PYTHONHASHSEED'] = str(seed_value)"
   ]
  },
  {
   "cell_type": "code",
   "execution_count": null,
   "id": "0f7a5482-91a9-4784-90d0-980eb5b7ca8b",
   "metadata": {},
   "outputs": [],
   "source": [
    "x = np.array([0., 0., math.pi / 8.0, 0.0, 0.0])\n",
    "goal = np.array([-.05, -.05])"
   ]
  },
  {
   "cell_type": "code",
   "execution_count": null,
   "id": "eff2c07e-78e3-4a01-9278-ef56493a0f03",
   "metadata": {},
   "outputs": [],
   "source": [
    "def towards_goal(curr_x):\n",
    "    dt = 0.2\n",
    "    mean_angle = (math.atan2(goal[1] - x[1], goal[0] - x[0]) - x[2]) / dt\n",
    "    var_angle = 1.9/4\n",
    "    # var_angle = 0.5\n",
    "    angular_velocity = np.random.normal(mean_angle, var_angle**2)\n",
    "    linear_velocity = 0.3\n",
    "    return np.array([linear_velocity, angular_velocity])"
   ]
  },
  {
   "cell_type": "code",
   "execution_count": null,
   "id": "6a6f698b-7761-4369-935f-2d70b01d46f9",
   "metadata": {},
   "outputs": [],
   "source": [
    "def motion(x: np.ndarray, u: np.ndarray) -> np.ndarray:\n",
    "    \"\"\"\n",
    "    Describes how the robot moves\n",
    "    :param x: current robot state\n",
    "    :param u: action performed by the robot\n",
    "    :return: the new robot state\n",
    "    \"\"\"\n",
    "    dt = 0.2\n",
    "    new_x = np.array(x, copy=True)\n",
    "    # angle\n",
    "    new_x[2] += u[1] * dt\n",
    "    # vel lineare\n",
    "    new_x[3] = u[0]\n",
    "    # vel angolare\n",
    "    new_x[4] = u[1]\n",
    "    # x\n",
    "    new_x[0] += u[0] * math.cos(new_x[2]) * dt\n",
    "    # y\n",
    "    new_x[1] += u[0] * math.sin(new_x[2]) * dt\n",
    "\n",
    "    return new_x"
   ]
  },
  {
   "cell_type": "code",
   "execution_count": null,
   "id": "4e747a02-2a77-4d7a-a25b-ebd35ddeb48b",
   "metadata": {},
   "outputs": [],
   "source": [
    "# ax.plot(sub_traj[:, 0], sub_traj[:, 1], \"--r\")"
   ]
  },
  {
   "cell_type": "code",
   "execution_count": null,
   "id": "c4f4b4c3-970b-45bd-9c51-8cea08252265",
   "metadata": {},
   "outputs": [],
   "source": [
    "actions = np.array([towards_goal(x) for _ in range(1000)])\n",
    "states = np.array([motion(x=x, u=a) for a in actions])"
   ]
  },
  {
   "cell_type": "code",
   "execution_count": null,
   "id": "4088e6cf-c89b-4257-a93d-8801c36c6737",
   "metadata": {},
   "outputs": [],
   "source": [
    "fig = plt.figure()\n",
    "plt.cla()\n",
    "\n",
    "plt.grid(True)\n",
    "# plt.axis(\"equal\")\n",
    "vel_ang = (math.atan2(goal[1] - x[1], goal[0] - x[0]) - x[2]) / 0.2\n",
    "mean = np.array([0.3, vel_ang])\n",
    "x1 = motion(x=x, u=mean)\n",
    "\n",
    "# for s in states:\n",
    "#     fig.gca().plot([x[0], s[0]], [x[1], s[1]], \"--g\")\n",
    "\n",
    "plt.gca().scatter(states[:, 0], states[:, 1])\n",
    "# fig.gca().plot([x[0], x1[0]], [x[1], x1[1]], \"--r\")\n",
    "# ROBOT POSITION\n",
    "plt.plot(x[0], x[1], \"xr\")\n",
    "# GOAL POSITION\n",
    "plt.plot(goal[0], goal[1], \"xb\")\n",
    "# plt.plot(10, 10, \"xb\")\n",
    "\n",
    "fig.savefig(\"Sample_Towards.png\", dpi=300)"
   ]
  },
  {
   "cell_type": "code",
   "execution_count": null,
   "id": "882baed5-c74f-4e38-b8af-ec727de87f58",
   "metadata": {},
   "outputs": [],
   "source": []
  },
  {
   "cell_type": "markdown",
   "id": "14be2b53-1fd5-4e21-b073-f26f091e833a",
   "metadata": {
    "jp-MarkdownHeadingCollapsed": true,
    "tags": []
   },
   "source": [
    "# Action Evolution"
   ]
  },
  {
   "cell_type": "code",
   "execution_count": null,
   "id": "485d25c1-7fe6-4264-8b1a-0bc2371e9720",
   "metadata": {},
   "outputs": [],
   "source": [
    "import seaborn as sns\n",
    "import pandas as pd\n",
    "sns.set_theme()"
   ]
  },
  {
   "cell_type": "code",
   "execution_count": null,
   "id": "f9848d6d-12ab-4592-85b3-9557b813e5f4",
   "metadata": {},
   "outputs": [],
   "source": [
    "actions = np.load(\"actions.npy\")"
   ]
  },
  {
   "cell_type": "code",
   "execution_count": null,
   "id": "b31a6ce9-dd92-4a47-86ce-ce03179e7a8c",
   "metadata": {},
   "outputs": [],
   "source": [
    "df = pd.DataFrame(\n",
    "    {\n",
    "        \"Linear Velocity\": actions[:, 0],\n",
    "        \"Angular Velocity\": actions[:, 1]\n",
    "    }\n",
    ")\n",
    "df = df.iloc[:500]"
   ]
  },
  {
   "cell_type": "code",
   "execution_count": null,
   "id": "d5d05a45-3925-4cde-8c2f-276a6113d31c",
   "metadata": {},
   "outputs": [],
   "source": [
    "len(df)"
   ]
  },
  {
   "cell_type": "code",
   "execution_count": null,
   "id": "edf3f068-b1f9-4bd7-bed2-56499f854968",
   "metadata": {},
   "outputs": [],
   "source": [
    "fig, axs = plt.subplots(2, sharex=True)\n",
    "sns.lineplot(data=df,x=df.index, y=\"Linear Velocity\", ax=axs[0], color= '#4c72b0')\n",
    "sns.lineplot(data=df,x=df.index, y=\"Angular Velocity\", ax=axs[1], color= '#c44e52')"
   ]
  },
  {
   "cell_type": "markdown",
   "id": "818c44e4-1524-46da-8a26-099d3f0d315b",
   "metadata": {
    "jp-MarkdownHeadingCollapsed": true,
    "tags": []
   },
   "source": [
    "# Tree Trajectories"
   ]
  },
  {
   "cell_type": "markdown",
   "id": "642c7ee6-419a-4d97-9541-35e51a1c46e2",
   "metadata": {
    "jp-MarkdownHeadingCollapsed": true,
    "tags": []
   },
   "source": [
    "## Images"
   ]
  },
  {
   "cell_type": "code",
   "execution_count": null,
   "id": "9d960525-3de8-4783-81e0-e7df706a9e58",
   "metadata": {},
   "outputs": [],
   "source": [
    "import numpy as np\n",
    "import matplotlib.pyplot as plt\n",
    "from tqdm.notebook import tqdm\n",
    "%matplotlib inline\n",
    "\n",
    "trajectories = np.load(\"trajectories.npz\", allow_pickle=True)\n",
    "values = np.load(\"rollout_values.npz\", allow_pickle=True)\n",
    "fig = plt.figure()\n",
    "sim = trajectories['arr_0']\n",
    "x = sim[0][0]\n",
    "\n",
    "bottom_limit = -0.5\n",
    "upper_limit = 11.5\n",
    "\n",
    "right_limit = 11.5\n",
    "left_limit = -0.5\n",
    "\n",
    "ob = np.array([\n",
    "        [4.5, 5.0],\n",
    "        [5.0, 4.5],\n",
    "        [5.0, 5.0],\n",
    "        [5.0, 5.5],\n",
    "        [5.5, 5.0],\n",
    "    ])\n",
    "\n",
    "\n",
    "for step_name in trajectories.files:\n",
    "    step = trajectories[step_name]\n",
    "    val_points = values[step_name]\n",
    "    last_points = np.array([trj[-1][:2] for trj in step])\n",
    "    x0 = step[0][0]\n",
    "    \n",
    "    fig = plt.figure()\n",
    "    plt.cla()\n",
    "    fig.gca().set_xlim([left_limit, right_limit])\n",
    "    fig.gca().set_ylim([bottom_limit, upper_limit])\n",
    "    plt.grid(True)\n",
    "    # ROBOT POSITION\n",
    "    plt.plot(x0[0], x0[1], \"or\")\n",
    "    # OBSTACLES\n",
    "    plt.plot(ob[:, 0], ob[:, 1], \"ok\")\n",
    "    # GOAL \n",
    "    plt.plot(10, 10, \"om\")\n",
    "    \n",
    "    plt.scatter(last_points[:, 0], last_points[:, 1], c=val_points, marker='x')\n",
    "    plt.colorbar()\n",
    "    fig.savefig(f'trajectories_{step_name}.png', dpi=300)\n",
    "    plt.close(fig)"
   ]
  },
  {
   "cell_type": "markdown",
   "id": "fbe76d39-eae2-40b9-aa57-a4b3f28b56a1",
   "metadata": {
    "tags": []
   },
   "source": [
    "## Animation"
   ]
  },
  {
   "cell_type": "code",
   "execution_count": null,
   "id": "2dd4d8d4-36cc-4a68-a0f1-0ddd24a273bd",
   "metadata": {},
   "outputs": [],
   "source": [
    "from matplotlib.animation import FuncAnimation\n",
    "import numpy as np\n",
    "import matplotlib.pyplot as plt\n",
    "from tqdm.notebook import tqdm\n",
    "\n",
    "bottom_limit = -0.5\n",
    "upper_limit = 11.5\n",
    "\n",
    "right_limit = 11.5\n",
    "left_limit = -0.5\n",
    "\n",
    "ob = np.array([\n",
    "        [4.5, 5.0],\n",
    "        [5.0, 4.5],\n",
    "        [5.0, 5.0],\n",
    "        [5.0, 5.5],\n",
    "        [5.5, 5.0],\n",
    "    ])\n",
    "\n",
    "\n",
    "def plot_frame(i, trajectories, values, fig):\n",
    "    fig.clear()\n",
    "    ax = fig.add_subplot()\n",
    "    ax.set_title(f\"Step: {i}\")\n",
    "    # plt.title(f\"Step: {i}\")\n",
    "    file_name = trajectories.files[i]\n",
    "    step = trajectories[file_name]\n",
    "    val_points = values[file_name]\n",
    "    \n",
    "    last_points = np.array([trj[-1][:2] for trj in step])\n",
    "    x0 = step[0][0]\n",
    "    \n",
    "    ax.cla()\n",
    "    ax.set_xlim([left_limit, right_limit])\n",
    "    ax.set_ylim([bottom_limit, upper_limit])\n",
    "    ax.grid(True)\n",
    "    # ROBOT POSITION\n",
    "    ax.plot(x0[0], x0[1], \"or\")\n",
    "    # OBSTACLES\n",
    "    ax.plot(ob[:, 0], ob[:, 1], \"ok\")\n",
    "    # GOAL \n",
    "    ax.plot(10, 10, \"om\")\n",
    "    cmap = ax.scatter(last_points[:, 0], last_points[:, 1], c=val_points, marker='x')\n",
    "    plt.colorbar(cmap)\n",
    "    \n",
    "trajectories = np.load(\"trajectories_0.npz\", allow_pickle=True)\n",
    "print(len(trajectories))\n",
    "values = np.load(\"rollout_values_0.npz\", allow_pickle=True)\n",
    "print(len(values))\n",
    "fig = plt.figure()\n",
    "\n",
    "ani = FuncAnimation(\n",
    "    fig,\n",
    "    plot_frame,\n",
    "    fargs=(trajectories, values, fig),\n",
    "    frames=len(trajectories)\n",
    ")\n",
    "ani.save(f\"animation.mp4\", fps=5, dpi=300)\n",
    "print(\"Done\")"
   ]
  },
  {
   "cell_type": "markdown",
   "id": "41d6b3bf-7d9b-4559-a974-49d748d9d6d3",
   "metadata": {
    "jp-MarkdownHeadingCollapsed": true,
    "tags": []
   },
   "source": [
    "# Heatmap"
   ]
  },
  {
   "cell_type": "code",
   "execution_count": 32,
   "id": "35743aef-0d5f-48b4-83bd-e719bbdcf5b9",
   "metadata": {},
   "outputs": [],
   "source": [
    "from dataclasses import dataclass\n",
    "from scipy.spatial.distance import cdist, euclidean\n",
    "import numpy as np\n",
    "import matplotlib.pyplot as plt\n",
    "import random\n",
    "import os\n",
    "import math\n",
    "import seaborn as sns\n",
    "from bettergym.environments.robot_arena import RobotArenaState,RobotArena, dist_to_goal\n",
    "from environment_creator import create_env_four_obs_difficult_continuous, create_env_five_small_obs_continuous"
   ]
  },
  {
   "cell_type": "code",
   "execution_count": 33,
   "id": "5da3b913-e877-4455-9684-c444de8fc69d",
   "metadata": {},
   "outputs": [],
   "source": [
    "def get_rwrd(env, x_pos):\n",
    "    env = env.gym_env\n",
    "    state = env.state\n",
    "    state.x[:2] = x_pos\n",
    "    env.dist_goal = dist_to_goal(state.x[:2], env.state.goal)\n",
    "    \n",
    "    collision = env.check_collision(state)\n",
    "    goal = env.dist_goal <= env.config.robot_radius\n",
    "    out_boundaries = env.check_out_boundaries(state)\n",
    "    return env.reward_grad(state=None, action=None, is_collision=collision, is_goal=goal, out_boundaries=out_boundaries)"
   ]
  },
  {
   "cell_type": "code",
   "execution_count": 34,
   "id": "54f22c7c-c6a2-45d9-b124-8a5518d8b92e",
   "metadata": {},
   "outputs": [],
   "source": [
    "real_env = create_env_five_small_obs_continuous(initial_pos=(1, 1), goal=(10, 10))"
   ]
  },
  {
   "cell_type": "code",
   "execution_count": 35,
   "id": "5507a23b-7516-461f-ab66-bc79ce9ae6c1",
   "metadata": {},
   "outputs": [],
   "source": [
    "x = np.linspace(-0.5, 11.5, 1000)\n",
    "y = np.linspace(-0.5, 11.5, 1000)"
   ]
  },
  {
   "cell_type": "code",
   "execution_count": 36,
   "id": "b77688bb-ec2a-4892-8c36-871a6fa981aa",
   "metadata": {},
   "outputs": [],
   "source": [
    "X, Y = np.meshgrid(x, y)"
   ]
  },
  {
   "cell_type": "code",
   "execution_count": 37,
   "id": "584b56db-3651-4934-a713-38cc0682ce7c",
   "metadata": {},
   "outputs": [],
   "source": [
    "pos_matrix = np.stack([X, Y], axis=2)"
   ]
  },
  {
   "cell_type": "code",
   "execution_count": 38,
   "id": "f267312b-194b-41d3-b79b-6de6d86acba2",
   "metadata": {},
   "outputs": [],
   "source": [
    "zeros = np.zeros((len(x), len(y)))"
   ]
  },
  {
   "cell_type": "code",
   "execution_count": 39,
   "id": "e70d2678-db4a-40e8-b5d1-f033207429c7",
   "metadata": {},
   "outputs": [],
   "source": [
    "for row_num in range(pos_matrix.shape[0]):\n",
    "    for col_num in range(pos_matrix.shape[1]):\n",
    "        zeros[row_num, col_num] = get_rwrd(real_env, pos_matrix[row_num, col_num])"
   ]
  },
  {
   "cell_type": "code",
   "execution_count": 40,
   "id": "7b4c47cc-6946-4054-b32c-4c8a8b059861",
   "metadata": {},
   "outputs": [],
   "source": [
    "# np.apply_along_axis(get_rwrd, axis=2, arr=pos_matrix)"
   ]
  },
  {
   "cell_type": "code",
   "execution_count": 41,
   "id": "320245c6-78da-4f32-84cd-481937d79644",
   "metadata": {},
   "outputs": [
    {
     "data": {
      "text/plain": [
       "<matplotlib.colorbar.Colorbar at 0x7f7d4a62c2e0>"
      ]
     },
     "execution_count": 41,
     "metadata": {},
     "output_type": "execute_result"
    },
    {
     "data": {
      "image/png": "[encoded data removed]",
      "text/plain": [
       "<Figure size 432x288 with 2 Axes>"
      ]
     },
     "metadata": {
      "needs_background": "light"
     },
     "output_type": "display_data"
    }
   ],
   "source": [
    "fig, ax = plt.subplots()\n",
    "cmap = ax.pcolormesh(X, Y, zeros, cmap=\"jet\")\n",
    "fig.colorbar(cmap)"
   ]
  },
  {
   "cell_type": "code",
   "execution_count": 42,
   "id": "ae5a2ed2-c57e-4e51-85a6-7cf1087408ee",
   "metadata": {},
   "outputs": [],
   "source": [
    "fig.savefig('heatmap.png', dpi=300)"
   ]
  },
  {
   "cell_type": "markdown",
   "id": "fb8a77b4-73cf-4e72-8abd-2e7500c7d0ab",
   "metadata": {
    "jp-MarkdownHeadingCollapsed": true,
    "tags": []
   },
   "source": [
    "# Q Values Plot"
   ]
  },
  {
   "cell_type": "code",
   "execution_count": null,
   "id": "8d1aad62-6fb8-4120-aa1e-15dfef276353",
   "metadata": {},
   "outputs": [],
   "source": [
    "import numpy as np\n",
    "import matplotlib.pyplot as plt\n",
    "import seaborn as sns\n",
    "sns.set_theme()\n",
    "sns.set_palette(sns.color_palette())\n",
    "%matplotlib inline\n",
    "\n",
    "q = np.load(\"q_values_0.npz\", allow_pickle=True)\n",
    "\n",
    "for step_name in q.files:\n",
    "    data = q[step_name]\n",
    "    x = list(range(len(data)))\n",
    "    plt.clf()\n",
    "    sns.barplot(x=x, y=data, palette=\"Set2\")\n",
    "    plt.savefig(f'debug/q/q_{step_name}.png', dpi=300)"
   ]
  },
  {
   "cell_type": "markdown",
   "id": "73fe98cb-d1c5-4547-8807-fdf11f8a0808",
   "metadata": {
    "jp-MarkdownHeadingCollapsed": true,
    "tags": []
   },
   "source": [
    "# Actions"
   ]
  },
  {
   "cell_type": "code",
   "execution_count": null,
   "id": "5b4b82bc-b536-45f1-b5a0-8b4159944484",
   "metadata": {},
   "outputs": [],
   "source": [
    "import numpy as np\n",
    "import matplotlib.pyplot as plt\n",
    "import seaborn as sns\n",
    "sns.set_theme()\n",
    "sns.set_palette(sns.color_palette())\n",
    "%matplotlib inline\n",
    "\n",
    "a = np.load(\"actions_0.npz\", allow_pickle=True)\n",
    "a_chosen = np.load(\"chosen_a_0.npz\", allow_pickle=True)['arr_0']\n",
    "idx = 0\n",
    "for step_name in q.files:\n",
    "    data = a[step_name]\n",
    "    plt.clf()\n",
    "    sns.scatterplot(x=data[:, 0], y=data[:, 1])\n",
    "    plt.plot(a_chosen[idx, 0], a_chosen[idx, 1], \"ok\")\n",
    "    plt.xlabel(\"Linear Velocity\")\n",
    "    plt.ylabel(\"Angular Velocity\")\n",
    "    plt.savefig(f'debug/a/a_{step_name}.png', dpi=300)\n",
    "    idx+=1"
   ]
  },
  {
   "cell_type": "markdown",
   "id": "c79e0d72-18e2-4a18-87cf-02d6c8191f4c",
   "metadata": {
    "jp-MarkdownHeadingCollapsed": true,
    "tags": []
   },
   "source": [
    "#  Stuff"
   ]
  },
  {
   "cell_type": "code",
   "execution_count": null,
   "id": "9c4799d9-abfb-434c-a0dc-ffe9c91bd10f",
   "metadata": {},
   "outputs": [],
   "source": [
    "import numpy as np\n",
    "import matplotlib.pyplot as plt\n",
    "import seaborn as sns\n",
    "sns.set_theme()\n",
    "sns.set_palette(sns.color_palette())\n",
    "%matplotlib inline\n",
    "\n",
    "trj = np.load(\"trajectory_real_0.npz\", allow_pickle=True)['arr_0']\n",
    "x_vals = trj[:, 0]\n",
    "y_vals = trj[:, 1]\n",
    "angles = trj[:, 2]\n",
    "lin_vel = trj[:, 3]\n",
    "\n",
    "# X\n",
    "plt.clf()\n",
    "sns.lineplot(x=range(len(x_vals)), y=x_vals)\n",
    "plt.xlabel(\"Step\")\n",
    "plt.ylabel(\"X\")\n",
    "plt.savefig('debug/X.svg', dpi=300)\n",
    "\n",
    "# Y\n",
    "plt.clf()\n",
    "sns.lineplot(x=range(len(y_vals)), y=y_vals)\n",
    "plt.xlabel(\"Step\")\n",
    "plt.ylabel(\"Y\")\n",
    "plt.savefig('debug/Y.svg', dpi=300)\n",
    "\n",
    "# Lin Vel\n",
    "plt.clf()\n",
    "sns.lineplot(x=range(len(lin_vel)), y=lin_vel)\n",
    "plt.xlabel(\"Step\")\n",
    "plt.ylabel(\"Linear Velocity\")\n",
    "plt.savefig('debug/Lin Vel.svg', dpi=300)\n",
    "\n",
    "# Angles\n",
    "plt.clf()\n",
    "sns.lineplot(x=range(len(angles)), y=angles)\n",
    "plt.xlabel(\"Step\")\n",
    "plt.ylabel(\"Angles\")\n",
    "plt.savefig('debug/Angles.svg', dpi=300)"
   ]
  },
  {
   "cell_type": "markdown",
   "id": "bf9a5224-f0e2-43a2-aa63-ab2388441b7c",
   "metadata": {},
   "source": [
    "# Reducing Simulations"
   ]
  },
  {
   "cell_type": "code",
   "execution_count": 1,
   "id": "8fecc8de-d719-4a1b-9e4c-4ae61d351245",
   "metadata": {},
   "outputs": [],
   "source": [
    "import pandas as pd\n",
    "import matplotlib.pyplot as plt\n",
    "import seaborn as sns\n",
    "sns.set_theme()"
   ]
  },
  {
   "cell_type": "code",
   "execution_count": 2,
   "id": "24fc4de2",
   "metadata": {},
   "outputs": [],
   "source": [
    "df = pd.read_csv('AGGREGATED_DATA.csv')"
   ]
  },
  {
   "cell_type": "code",
   "execution_count": 12,
   "id": "42e74d4d",
   "metadata": {},
   "outputs": [
    {
     "data": {
      "text/html": [
       "<div>\n",
       "<style scoped>\n",
       "    .dataframe tbody tr th:only-of-type {\n",
       "        vertical-align: middle;\n",
       "    }\n",
       "\n",
       "    .dataframe tbody tr th {\n",
       "        vertical-align: top;\n",
       "    }\n",
       "\n",
       "    .dataframe thead th {\n",
       "        text-align: right;\n",
       "    }\n",
       "</style>\n",
       "<table border=\"1\" class=\"dataframe\">\n",
       "  <thead>\n",
       "    <tr style=\"text-align: right;\">\n",
       "      <th></th>\n",
       "      <th>algorithm</th>\n",
       "      <th>rollout</th>\n",
       "      <th>nsim</th>\n",
       "      <th>cumRwrd</th>\n",
       "      <th>nSteps</th>\n",
       "      <th>MeanStepTime</th>\n",
       "      <th>StdStepTime</th>\n",
       "      <th>reachGoal</th>\n",
       "      <th>total</th>\n",
       "    </tr>\n",
       "  </thead>\n",
       "  <tbody>\n",
       "    <tr>\n",
       "      <th>0</th>\n",
       "      <td>VANILLA</td>\n",
       "      <td>epsilon_uniform_uniform</td>\n",
       "      <td>800</td>\n",
       "      <td>-32.25</td>\n",
       "      <td>335.1</td>\n",
       "      <td>2.40</td>\n",
       "      <td>0.37</td>\n",
       "      <td>10</td>\n",
       "      <td>10</td>\n",
       "    </tr>\n",
       "    <tr>\n",
       "      <th>1</th>\n",
       "      <td>VANILLA</td>\n",
       "      <td>epsilon_uniform_uniform</td>\n",
       "      <td>1000</td>\n",
       "      <td>-32.72</td>\n",
       "      <td>330.7</td>\n",
       "      <td>2.99</td>\n",
       "      <td>0.46</td>\n",
       "      <td>10</td>\n",
       "      <td>10</td>\n",
       "    </tr>\n",
       "    <tr>\n",
       "      <th>2</th>\n",
       "      <td>VO2</td>\n",
       "      <td>epsilon_uniform_uniform</td>\n",
       "      <td>800</td>\n",
       "      <td>-39.21</td>\n",
       "      <td>386.2</td>\n",
       "      <td>8.44</td>\n",
       "      <td>5.54</td>\n",
       "      <td>10</td>\n",
       "      <td>10</td>\n",
       "    </tr>\n",
       "    <tr>\n",
       "      <th>3</th>\n",
       "      <td>VANILLA</td>\n",
       "      <td>epsilon_uniform_uniform</td>\n",
       "      <td>600</td>\n",
       "      <td>-40.04</td>\n",
       "      <td>357.4</td>\n",
       "      <td>1.59</td>\n",
       "      <td>0.24</td>\n",
       "      <td>10</td>\n",
       "      <td>10</td>\n",
       "    </tr>\n",
       "    <tr>\n",
       "      <th>4</th>\n",
       "      <td>VO2</td>\n",
       "      <td>epsilon_uniform_uniform</td>\n",
       "      <td>1000</td>\n",
       "      <td>-40.24</td>\n",
       "      <td>386.9</td>\n",
       "      <td>11.15</td>\n",
       "      <td>8.00</td>\n",
       "      <td>10</td>\n",
       "      <td>10</td>\n",
       "    </tr>\n",
       "    <tr>\n",
       "      <th>5</th>\n",
       "      <td>VO2</td>\n",
       "      <td>epsilon_uniform_uniform</td>\n",
       "      <td>600</td>\n",
       "      <td>-43.59</td>\n",
       "      <td>402.9</td>\n",
       "      <td>6.51</td>\n",
       "      <td>4.26</td>\n",
       "      <td>10</td>\n",
       "      <td>10</td>\n",
       "    </tr>\n",
       "    <tr>\n",
       "      <th>6</th>\n",
       "      <td>VO2</td>\n",
       "      <td>epsilon_uniform_uniform</td>\n",
       "      <td>400</td>\n",
       "      <td>-48.21</td>\n",
       "      <td>416.8</td>\n",
       "      <td>4.88</td>\n",
       "      <td>3.10</td>\n",
       "      <td>10</td>\n",
       "      <td>10</td>\n",
       "    </tr>\n",
       "    <tr>\n",
       "      <th>7</th>\n",
       "      <td>VANILLA</td>\n",
       "      <td>epsilon_uniform_uniform</td>\n",
       "      <td>400</td>\n",
       "      <td>-57.82</td>\n",
       "      <td>398.7</td>\n",
       "      <td>1.06</td>\n",
       "      <td>0.16</td>\n",
       "      <td>10</td>\n",
       "      <td>10</td>\n",
       "    </tr>\n",
       "    <tr>\n",
       "      <th>8</th>\n",
       "      <td>VO2</td>\n",
       "      <td>epsilon_uniform_uniform</td>\n",
       "      <td>200</td>\n",
       "      <td>-60.48</td>\n",
       "      <td>451.7</td>\n",
       "      <td>3.13</td>\n",
       "      <td>1.48</td>\n",
       "      <td>10</td>\n",
       "      <td>10</td>\n",
       "    </tr>\n",
       "    <tr>\n",
       "      <th>9</th>\n",
       "      <td>VO2</td>\n",
       "      <td>epsilon_uniform_uniform</td>\n",
       "      <td>100</td>\n",
       "      <td>-62.46</td>\n",
       "      <td>458.6</td>\n",
       "      <td>2.34</td>\n",
       "      <td>0.87</td>\n",
       "      <td>10</td>\n",
       "      <td>10</td>\n",
       "    </tr>\n",
       "    <tr>\n",
       "      <th>10</th>\n",
       "      <td>VANILLA</td>\n",
       "      <td>epsilon_uniform_uniform</td>\n",
       "      <td>200</td>\n",
       "      <td>-108.97</td>\n",
       "      <td>521.4</td>\n",
       "      <td>0.49</td>\n",
       "      <td>0.08</td>\n",
       "      <td>10</td>\n",
       "      <td>10</td>\n",
       "    </tr>\n",
       "    <tr>\n",
       "      <th>11</th>\n",
       "      <td>VANILLA</td>\n",
       "      <td>epsilon_uniform_uniform</td>\n",
       "      <td>100</td>\n",
       "      <td>-326.25</td>\n",
       "      <td>830.0</td>\n",
       "      <td>0.21</td>\n",
       "      <td>0.05</td>\n",
       "      <td>6</td>\n",
       "      <td>10</td>\n",
       "    </tr>\n",
       "  </tbody>\n",
       "</table>\n",
       "</div>"
      ],
      "text/plain": [
       "   algorithm                  rollout  nsim  cumRwrd  nSteps  MeanStepTime  \\\n",
       "0    VANILLA  epsilon_uniform_uniform   800   -32.25   335.1          2.40   \n",
       "1    VANILLA  epsilon_uniform_uniform  1000   -32.72   330.7          2.99   \n",
       "2        VO2  epsilon_uniform_uniform   800   -39.21   386.2          8.44   \n",
       "3    VANILLA  epsilon_uniform_uniform   600   -40.04   357.4          1.59   \n",
       "4        VO2  epsilon_uniform_uniform  1000   -40.24   386.9         11.15   \n",
       "5        VO2  epsilon_uniform_uniform   600   -43.59   402.9          6.51   \n",
       "6        VO2  epsilon_uniform_uniform   400   -48.21   416.8          4.88   \n",
       "7    VANILLA  epsilon_uniform_uniform   400   -57.82   398.7          1.06   \n",
       "8        VO2  epsilon_uniform_uniform   200   -60.48   451.7          3.13   \n",
       "9        VO2  epsilon_uniform_uniform   100   -62.46   458.6          2.34   \n",
       "10   VANILLA  epsilon_uniform_uniform   200  -108.97   521.4          0.49   \n",
       "11   VANILLA  epsilon_uniform_uniform   100  -326.25   830.0          0.21   \n",
       "\n",
       "    StdStepTime  reachGoal  total  \n",
       "0          0.37         10     10  \n",
       "1          0.46         10     10  \n",
       "2          5.54         10     10  \n",
       "3          0.24         10     10  \n",
       "4          8.00         10     10  \n",
       "5          4.26         10     10  \n",
       "6          3.10         10     10  \n",
       "7          0.16         10     10  \n",
       "8          1.48         10     10  \n",
       "9          0.87         10     10  \n",
       "10         0.08         10     10  \n",
       "11         0.05          6     10  "
      ]
     },
     "execution_count": 12,
     "metadata": {},
     "output_type": "execute_result"
    }
   ],
   "source": [
    "df"
   ]
  },
  {
   "cell_type": "code",
   "execution_count": 13,
   "id": "3ca33d96",
   "metadata": {},
   "outputs": [],
   "source": [
    "df_rwrd = df[[\"algorithm\", \"nsim\", \"cumRwrd\"]].pivot(index=\"nsim\", columns='algorithm', values='cumRwrd')\n",
    "df_time = df[[\"algorithm\", \"nsim\", \"MeanStepTime\"]].pivot(index=\"nsim\", columns='algorithm', values='MeanStepTime')\n",
    "df_step = df[[\"algorithm\", \"nsim\", \"nSteps\"]].pivot(index=\"nsim\", columns='algorithm', values='nSteps')"
   ]
  },
  {
   "cell_type": "code",
   "execution_count": 14,
   "id": "b30ddf3e",
   "metadata": {},
   "outputs": [
    {
     "data": {
      "text/html": [
       "<div>\n",
       "<style scoped>\n",
       "    .dataframe tbody tr th:only-of-type {\n",
       "        vertical-align: middle;\n",
       "    }\n",
       "\n",
       "    .dataframe tbody tr th {\n",
       "        vertical-align: top;\n",
       "    }\n",
       "\n",
       "    .dataframe thead th {\n",
       "        text-align: right;\n",
       "    }\n",
       "</style>\n",
       "<table border=\"1\" class=\"dataframe\">\n",
       "  <thead>\n",
       "    <tr style=\"text-align: right;\">\n",
       "      <th>algorithm</th>\n",
       "      <th>VANILLA</th>\n",
       "      <th>VO2</th>\n",
       "    </tr>\n",
       "    <tr>\n",
       "      <th>nsim</th>\n",
       "      <th></th>\n",
       "      <th></th>\n",
       "    </tr>\n",
       "  </thead>\n",
       "  <tbody>\n",
       "    <tr>\n",
       "      <th>100</th>\n",
       "      <td>-326.25</td>\n",
       "      <td>-62.46</td>\n",
       "    </tr>\n",
       "    <tr>\n",
       "      <th>200</th>\n",
       "      <td>-108.97</td>\n",
       "      <td>-60.48</td>\n",
       "    </tr>\n",
       "    <tr>\n",
       "      <th>400</th>\n",
       "      <td>-57.82</td>\n",
       "      <td>-48.21</td>\n",
       "    </tr>\n",
       "    <tr>\n",
       "      <th>600</th>\n",
       "      <td>-40.04</td>\n",
       "      <td>-43.59</td>\n",
       "    </tr>\n",
       "    <tr>\n",
       "      <th>800</th>\n",
       "      <td>-32.25</td>\n",
       "      <td>-39.21</td>\n",
       "    </tr>\n",
       "    <tr>\n",
       "      <th>1000</th>\n",
       "      <td>-32.72</td>\n",
       "      <td>-40.24</td>\n",
       "    </tr>\n",
       "  </tbody>\n",
       "</table>\n",
       "</div>"
      ],
      "text/plain": [
       "algorithm  VANILLA    VO2\n",
       "nsim                     \n",
       "100        -326.25 -62.46\n",
       "200        -108.97 -60.48\n",
       "400         -57.82 -48.21\n",
       "600         -40.04 -43.59\n",
       "800         -32.25 -39.21\n",
       "1000        -32.72 -40.24"
      ]
     },
     "execution_count": 14,
     "metadata": {},
     "output_type": "execute_result"
    }
   ],
   "source": [
    "df_rwrd"
   ]
  },
  {
   "cell_type": "markdown",
   "id": "c049d057",
   "metadata": {},
   "source": [
    "# Reward"
   ]
  },
  {
   "cell_type": "code",
   "execution_count": 20,
   "id": "aa1543ac-241a-4dd4-a955-be0fa274bab1",
   "metadata": {},
   "outputs": [
    {
     "data": {
      "image/png": "[encoded data removed]",
      "text/plain": [
       "<Figure size 432x288 with 1 Axes>"
      ]
     },
     "metadata": {
      "needs_background": "light"
     },
     "output_type": "display_data"
    }
   ],
   "source": [
    "fig = plt.Figure((12, 6))\n",
    "plot = sns.lineplot(\n",
    "    data=df_rwrd, markers=[\"o\"]*(len(df_rwrd.columns))\n",
    ")\n",
    "plot.invert_xaxis()\n",
    "plot.set_xticks(df_rwrd.index.values)\n",
    "plt.xticks(rotation=-45)\n",
    "plt.tight_layout()\n",
    "plt.savefig('reward_chance.png', dpi=500, facecolor='white', edgecolor='none')\n",
    "plt.savefig('reward_chance.svg', dpi=500, facecolor='white', edgecolor='none')"
   ]
  },
  {
   "cell_type": "markdown",
   "id": "30a5ab9c",
   "metadata": {},
   "source": [
    "# Time"
   ]
  },
  {
   "cell_type": "code",
   "execution_count": 21,
   "id": "30985ade",
   "metadata": {},
   "outputs": [
    {
     "data": {
      "image/png": "[encoded data removed]",
      "text/plain": [
       "<Figure size 432x288 with 1 Axes>"
      ]
     },
     "metadata": {
      "needs_background": "light"
     },
     "output_type": "display_data"
    }
   ],
   "source": [
    "fig = plt.Figure((12, 6))\n",
    "plot = sns.lineplot(\n",
    "    data=df_time, markers=[\"o\"]*(len(df_time.columns))\n",
    ")\n",
    "plot.invert_xaxis()\n",
    "plot.set_xticks(df_time.index.values)\n",
    "plt.xticks(rotation=-45)\n",
    "plt.tight_layout()\n",
    "plt.savefig('time_chance.png', dpi=500, facecolor='white', edgecolor='none')\n",
    "plt.savefig('time_chance.svg', dpi=500, facecolor='white', edgecolor='none')"
   ]
  },
  {
   "cell_type": "markdown",
   "id": "17d5d05c",
   "metadata": {},
   "source": [
    "# Step"
   ]
  },
  {
   "cell_type": "code",
   "execution_count": 22,
   "id": "e0f9e83d",
   "metadata": {},
   "outputs": [
    {
     "data": {
      "image/png": "[encoded data removed]",
      "text/plain": [
       "<Figure size 432x288 with 1 Axes>"
      ]
     },
     "metadata": {
      "needs_background": "light"
     },
     "output_type": "display_data"
    }
   ],
   "source": [
    "fig = plt.Figure((12, 6))\n",
    "plot = sns.lineplot(\n",
    "    data=df_step, markers=[\"o\"]*(len(df_step.columns))\n",
    ")\n",
    "plot.invert_xaxis()\n",
    "plot.set_xticks(df_step.index.values)\n",
    "plt.xticks(rotation=-45)\n",
    "plt.tight_layout()\n",
    "plt.savefig('step_chance.png', dpi=500, facecolor='white', edgecolor='none')\n",
    "plt.savefig('step_chance.svg', dpi=500, facecolor='white', edgecolor='none')"
   ]
  },
  {
   "cell_type": "code",
   "execution_count": null,
   "id": "5e0c62a7",
   "metadata": {},
   "outputs": [],
   "source": []
  },
  {
   "cell_type": "code",
   "execution_count": null,
   "id": "e7162396",
   "metadata": {},
   "outputs": [],
   "source": []
  }
 ],
 "metadata": {
  "kernelspec": {
   "display_name": "Python 3 (ipykernel)",
   "language": "python",
   "name": "python3"
  },
  "language_info": {
   "codemirror_mode": {
    "name": "ipython",
    "version": 3
   },
   "file_extension": ".py",
   "mimetype": "text/x-python",
   "name": "python",
   "nbconvert_exporter": "python",
   "pygments_lexer": "ipython3",
   "version": "3.10.12"
  }
 },
 "nbformat": 4,
 "nbformat_minor": 5
}
