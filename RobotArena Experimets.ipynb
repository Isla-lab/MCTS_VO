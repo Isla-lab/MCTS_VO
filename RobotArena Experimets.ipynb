{
 "cells": [
  {
   "cell_type": "markdown",
   "id": "ea745379-9336-49a7-a6eb-916e9a11187b",
   "metadata": {
    "jp-MarkdownHeadingCollapsed": true,
    "tags": []
   },
   "source": [
    "# Sample Towards Goal"
   ]
  },
  {
   "cell_type": "code",
   "execution_count": null,
   "id": "679453ab-8ddb-430f-9258-16ec9d6f9271",
   "metadata": {},
   "outputs": [],
   "source": [
    "from numpy import arctan2\n",
    "import numpy as np\n",
    "import matplotlib.pyplot as plt\n",
    "import random\n",
    "import os\n",
    "import math"
   ]
  },
  {
   "cell_type": "code",
   "execution_count": null,
   "id": "b1d26c7c-f5c6-4b74-bcbe-16d26e0b7a3c",
   "metadata": {},
   "outputs": [],
   "source": [
    "%matplotlib inline"
   ]
  },
  {
   "cell_type": "code",
   "execution_count": null,
   "id": "cfb50cc1-78e3-4e96-bb83-8376fe584f0b",
   "metadata": {},
   "outputs": [],
   "source": [
    "seed_value = 0\n",
    "random.seed(seed_value)\n",
    "np.random.seed(seed_value)\n",
    "os.environ['PYTHONHASHSEED'] = str(seed_value)"
   ]
  },
  {
   "cell_type": "code",
   "execution_count": null,
   "id": "0f7a5482-91a9-4784-90d0-980eb5b7ca8b",
   "metadata": {},
   "outputs": [],
   "source": [
    "x = np.array([0., 0., math.pi / 8.0, 0.0, 0.0])\n",
    "goal = np.array([-.05, -.05])"
   ]
  },
  {
   "cell_type": "code",
   "execution_count": null,
   "id": "eff2c07e-78e3-4a01-9278-ef56493a0f03",
   "metadata": {},
   "outputs": [],
   "source": [
    "def towards_goal(curr_x):\n",
    "    dt = 0.2\n",
    "    mean_angle = (math.atan2(goal[1] - x[1], goal[0] - x[0]) - x[2]) / dt\n",
    "    var_angle = 1.9/4\n",
    "    # var_angle = 0.5\n",
    "    angular_velocity = np.random.normal(mean_angle, var_angle**2)\n",
    "    linear_velocity = 0.3\n",
    "    return np.array([linear_velocity, angular_velocity])"
   ]
  },
  {
   "cell_type": "code",
   "execution_count": null,
   "id": "6a6f698b-7761-4369-935f-2d70b01d46f9",
   "metadata": {},
   "outputs": [],
   "source": [
    "def motion(x: np.ndarray, u: np.ndarray) -> np.ndarray:\n",
    "    \"\"\"\n",
    "    Describes how the robot moves\n",
    "    :param x: current robot state\n",
    "    :param u: action performed by the robot\n",
    "    :return: the new robot state\n",
    "    \"\"\"\n",
    "    dt = 0.2\n",
    "    new_x = np.array(x, copy=True)\n",
    "    # angle\n",
    "    new_x[2] += u[1] * dt\n",
    "    # vel lineare\n",
    "    new_x[3] = u[0]\n",
    "    # vel angolare\n",
    "    new_x[4] = u[1]\n",
    "    # x\n",
    "    new_x[0] += u[0] * math.cos(new_x[2]) * dt\n",
    "    # y\n",
    "    new_x[1] += u[0] * math.sin(new_x[2]) * dt\n",
    "\n",
    "    return new_x"
   ]
  },
  {
   "cell_type": "code",
   "execution_count": null,
   "id": "4e747a02-2a77-4d7a-a25b-ebd35ddeb48b",
   "metadata": {},
   "outputs": [],
   "source": [
    "# ax.plot(sub_traj[:, 0], sub_traj[:, 1], \"--r\")"
   ]
  },
  {
   "cell_type": "code",
   "execution_count": null,
   "id": "c4f4b4c3-970b-45bd-9c51-8cea08252265",
   "metadata": {},
   "outputs": [],
   "source": [
    "actions = np.array([towards_goal(x) for _ in range(1000)])\n",
    "states = np.array([motion(x=x, u=a) for a in actions])"
   ]
  },
  {
   "cell_type": "code",
   "execution_count": null,
   "id": "4088e6cf-c89b-4257-a93d-8801c36c6737",
   "metadata": {},
   "outputs": [],
   "source": [
    "fig = plt.figure()\n",
    "plt.cla()\n",
    "\n",
    "plt.grid(True)\n",
    "# plt.axis(\"equal\")\n",
    "vel_ang = (math.atan2(goal[1] - x[1], goal[0] - x[0]) - x[2]) / 0.2\n",
    "mean = np.array([0.3, vel_ang])\n",
    "x1 = motion(x=x, u=mean)\n",
    "\n",
    "# for s in states:\n",
    "#     fig.gca().plot([x[0], s[0]], [x[1], s[1]], \"--g\")\n",
    "\n",
    "plt.gca().scatter(states[:, 0], states[:, 1])\n",
    "# fig.gca().plot([x[0], x1[0]], [x[1], x1[1]], \"--r\")\n",
    "# ROBOT POSITION\n",
    "plt.plot(x[0], x[1], \"xr\")\n",
    "# GOAL POSITION\n",
    "plt.plot(goal[0], goal[1], \"xb\")\n",
    "# plt.plot(10, 10, \"xb\")\n",
    "\n",
    "fig.savefig(\"Sample_Towards.png\", dpi=300)"
   ]
  },
  {
   "cell_type": "code",
   "execution_count": null,
   "id": "882baed5-c74f-4e38-b8af-ec727de87f58",
   "metadata": {},
   "outputs": [],
   "source": []
  },
  {
   "cell_type": "markdown",
   "id": "14be2b53-1fd5-4e21-b073-f26f091e833a",
   "metadata": {
    "jp-MarkdownHeadingCollapsed": true,
    "tags": []
   },
   "source": [
    "# Action Evolution"
   ]
  },
  {
   "cell_type": "code",
   "execution_count": null,
   "id": "485d25c1-7fe6-4264-8b1a-0bc2371e9720",
   "metadata": {},
   "outputs": [],
   "source": [
    "import seaborn as sns\n",
    "import pandas as pd\n",
    "sns.set_theme()"
   ]
  },
  {
   "cell_type": "code",
   "execution_count": null,
   "id": "f9848d6d-12ab-4592-85b3-9557b813e5f4",
   "metadata": {},
   "outputs": [],
   "source": [
    "actions = np.load(\"actions.npy\")"
   ]
  },
  {
   "cell_type": "code",
   "execution_count": null,
   "id": "b31a6ce9-dd92-4a47-86ce-ce03179e7a8c",
   "metadata": {},
   "outputs": [],
   "source": [
    "df = pd.DataFrame(\n",
    "    {\n",
    "        \"Linear Velocity\": actions[:, 0],\n",
    "        \"Angular Velocity\": actions[:, 1]\n",
    "    }\n",
    ")\n",
    "df = df.iloc[:500]"
   ]
  },
  {
   "cell_type": "code",
   "execution_count": null,
   "id": "d5d05a45-3925-4cde-8c2f-276a6113d31c",
   "metadata": {},
   "outputs": [],
   "source": [
    "len(df)"
   ]
  },
  {
   "cell_type": "code",
   "execution_count": null,
   "id": "edf3f068-b1f9-4bd7-bed2-56499f854968",
   "metadata": {},
   "outputs": [],
   "source": [
    "fig, axs = plt.subplots(2, sharex=True)\n",
    "sns.lineplot(data=df,x=df.index, y=\"Linear Velocity\", ax=axs[0], color= '#4c72b0')\n",
    "sns.lineplot(data=df,x=df.index, y=\"Angular Velocity\", ax=axs[1], color= '#c44e52')"
   ]
  },
  {
   "cell_type": "markdown",
   "id": "818c44e4-1524-46da-8a26-099d3f0d315b",
   "metadata": {
    "tags": []
   },
   "source": [
    "# Tree Trajectories"
   ]
  },
  {
   "cell_type": "markdown",
   "id": "642c7ee6-419a-4d97-9541-35e51a1c46e2",
   "metadata": {
    "tags": []
   },
   "source": [
    "## Images"
   ]
  },
  {
   "cell_type": "code",
   "execution_count": null,
   "id": "9d960525-3de8-4783-81e0-e7df706a9e58",
   "metadata": {},
   "outputs": [],
   "source": [
    "import numpy as np\n",
    "import matplotlib.pyplot as plt\n",
    "from tqdm.notebook import tqdm\n",
    "%matplotlib inline\n",
    "\n",
    "trajectories = np.load(\"trajectories.npz\", allow_pickle=True)\n",
    "values = np.load(\"rollout_values.npz\", allow_pickle=True)\n",
    "fig = plt.figure()\n",
    "sim = trajectories['arr_0']\n",
    "x = sim[0][0]\n",
    "\n",
    "bottom_limit = -0.5\n",
    "upper_limit = 11.5\n",
    "\n",
    "right_limit = 11.5\n",
    "left_limit = -0.5\n",
    "\n",
    "ob = np.array([\n",
    "        [4.5, 5.0],\n",
    "        [5.0, 4.5],\n",
    "        [5.0, 5.0],\n",
    "        [5.0, 5.5],\n",
    "        [5.5, 5.0],\n",
    "    ])\n",
    "\n",
    "\n",
    "for step_name in trajectories.files:\n",
    "    step = trajectories[step_name]\n",
    "    val_points = values[step_name]\n",
    "    last_points = np.array([trj[-1][:2] for trj in step])\n",
    "    x0 = step[0][0]\n",
    "    \n",
    "    fig = plt.figure()\n",
    "    plt.cla()\n",
    "    fig.gca().set_xlim([left_limit, right_limit])\n",
    "    fig.gca().set_ylim([bottom_limit, upper_limit])\n",
    "    plt.grid(True)\n",
    "    # ROBOT POSITION\n",
    "    plt.plot(x0[0], x0[1], \"or\")\n",
    "    # OBSTACLES\n",
    "    plt.plot(ob[:, 0], ob[:, 1], \"ok\")\n",
    "    # GOAL \n",
    "    plt.plot(10, 10, \"om\")\n",
    "    \n",
    "    plt.scatter(last_points[:, 0], last_points[:, 1], c=val_points, marker='x')\n",
    "    plt.colorbar()\n",
    "    fig.savefig(f'trajectories_{step_name}.png', dpi=300)\n",
    "    plt.close(fig)"
   ]
  },
  {
   "cell_type": "markdown",
   "id": "fbe76d39-eae2-40b9-aa57-a4b3f28b56a1",
   "metadata": {
    "jp-MarkdownHeadingCollapsed": true,
    "tags": []
   },
   "source": [
    "## Animation"
   ]
  },
  {
   "cell_type": "code",
   "execution_count": null,
   "id": "2dd4d8d4-36cc-4a68-a0f1-0ddd24a273bd",
   "metadata": {},
   "outputs": [
    {
     "name": "stdout",
     "output_type": "stream",
     "text": [
      "622\n",
      "622\n"
     ]
    }
   ],
   "source": [
    "from matplotlib.animation import FuncAnimation\n",
    "import numpy as np\n",
    "import matplotlib.pyplot as plt\n",
    "from tqdm.notebook import tqdm\n",
    "\n",
    "bottom_limit = -0.5\n",
    "upper_limit = 11.5\n",
    "\n",
    "right_limit = 11.5\n",
    "left_limit = -0.5\n",
    "\n",
    "ob = np.array([\n",
    "        [4.5, 5.0],\n",
    "        [5.0, 4.5],\n",
    "        [5.0, 5.0],\n",
    "        [5.0, 5.5],\n",
    "        [5.5, 5.0],\n",
    "    ])\n",
    "\n",
    "\n",
    "def plot_frame(i, trajectories, values, fig):\n",
    "    fig.clear()\n",
    "    ax = fig.add_subplot()\n",
    "    ax.set_title(f\"Step: {i}\")\n",
    "    # plt.title(f\"Step: {i}\")\n",
    "    file_name = trajectories.files[i]\n",
    "    step = trajectories[file_name]\n",
    "    val_points = values[file_name]\n",
    "    \n",
    "    last_points = np.array([trj[-1][:2] for trj in step])\n",
    "    x0 = step[0][0]\n",
    "    \n",
    "    ax.cla()\n",
    "    ax.set_xlim([left_limit, right_limit])\n",
    "    ax.set_ylim([bottom_limit, upper_limit])\n",
    "    ax.grid(True)\n",
    "    # ROBOT POSITION\n",
    "    ax.plot(x0[0], x0[1], \"or\")\n",
    "    # OBSTACLES\n",
    "    ax.plot(ob[:, 0], ob[:, 1], \"ok\")\n",
    "    # GOAL \n",
    "    ax.plot(10, 10, \"om\")\n",
    "    cmap = ax.scatter(last_points[:, 0], last_points[:, 1], c=val_points, marker='x')\n",
    "    plt.colorbar(cmap)\n",
    "    \n",
    "trajectories = np.load(\"trajectories_0.npz\", allow_pickle=True)\n",
    "print(len(trajectories))\n",
    "values = np.load(\"rollout_values_0.npz\", allow_pickle=True)\n",
    "print(len(values))\n",
    "fig = plt.figure()\n",
    "\n",
    "ani = FuncAnimation(\n",
    "    fig,\n",
    "    plot_frame,\n",
    "    fargs=(trajectories, values, fig),\n",
    "    frames=len(trajectories)\n",
    ")\n",
    "ani.save(f\"animation.mp4\", fps=5, dpi=300)\n",
    "print(\"Done\")"
   ]
  },
  {
   "cell_type": "markdown",
   "id": "5b1340df-ac5f-4fb7-b51d-fc7710fd2036",
   "metadata": {
    "jp-MarkdownHeadingCollapsed": true,
    "tags": []
   },
   "source": [
    "# Heatmap Value"
   ]
  },
  {
   "cell_type": "code",
   "execution_count": null,
   "id": "a9e5aa1f-6f70-496e-9543-441303963c77",
   "metadata": {},
   "outputs": [],
   "source": [
    "from dataclasses import dataclass\n",
    "from scipy.spatial.distance import cdist, euclidean\n",
    "import numpy as np\n",
    "import matplotlib.pyplot as plt\n",
    "import random\n",
    "import os\n",
    "import math\n",
    "import seaborn as sns"
   ]
  },
  {
   "cell_type": "code",
   "execution_count": null,
   "id": "304e67cc-b21c-42b0-8b84-ff553be5b60b",
   "metadata": {},
   "outputs": [],
   "source": [
    "@dataclass\n",
    "class Config:\n",
    "    \"\"\"\n",
    "    simulation parameter class\n",
    "    \"\"\"\n",
    "    # robot parameter\n",
    "    # Max U[0]\n",
    "    max_speed = 0.3  # [m/s]\n",
    "    # Min U[0]\n",
    "    min_speed = -0.1  # [m/s]\n",
    "    # Max and Min U[1]\n",
    "    # max_yaw_rate = 40.0 * math.pi / 180.0  # [rad/s]\n",
    "    max_yaw_rate = 1.9  # [rad/s]\n",
    "\n",
    "    # The action can be the relative change in speed -0.2 to 0.2\n",
    "    # max_accel = 0.2  # [m/ss]\n",
    "    # max_delta_yaw_rate = 40.0 * math.pi / 180.0  # [rad/ss]\n",
    "\n",
    "    # yaw_rate_resolution = 0.1 * math.pi / 180.0  # [rad/s]\n",
    "    dt = 0.2  # [s] Time tick for motion prediction\n",
    "    robot_radius = 0.3  # [m] for collision check\n",
    "\n",
    "    bottom_limit = -0.5\n",
    "    upper_limit = 11.5\n",
    "\n",
    "    right_limit = 11.5\n",
    "    left_limit = -0.5\n",
    "    obs_size = 0.2\n",
    "\n",
    "    num_discrete_actions = 5\n",
    "\n",
    "    # obstacles [x(m) y(m), ....]\n",
    "    ob = np.array([\n",
    "        [4.5, 5.0],\n",
    "        [5.0, 4.5],\n",
    "        [5.0, 5.0],\n",
    "        [5.0, 5.5],\n",
    "        [5.5, 5.0],\n",
    "    ])\n",
    "\n",
    "class RobotArenaState:\n",
    "    def __init__(self, x: np.ndarray, goal: np.ndarray):\n",
    "        # x, y, angle ,vel_lin, vel_ang\n",
    "        self.x: np.ndarray = x\n",
    "        # x(m), y(m)\n",
    "        self.goal: np.ndarray = goal\n",
    "\n",
    "def reward_grad(state: RobotArenaState, is_collision: bool, is_goal: bool,\n",
    "                out_boundaries: bool) -> float:\n",
    "    \"\"\"\n",
    "    Defines the reward the agent receives\n",
    "    :param state: current robot state\n",
    "    :param action: action performed by the agent\n",
    "    :param is_collision: boolean value indicating if the robot is colliding\n",
    "    :param is_goal: boolean value indicating if the robot has reached the goal\n",
    "    :param out_boundaries: boolean value indicating if the robot is out of the map\n",
    "    :return: The numerical reward of the agent\n",
    "    \"\"\"\n",
    "    GOAL_REWARD: float = 1.0\n",
    "    COLLISION_REWARD: float = -5.0\n",
    "\n",
    "    if is_goal:\n",
    "        return GOAL_REWARD\n",
    "\n",
    "    if is_collision or out_boundaries:\n",
    "        return COLLISION_REWARD\n",
    "    max_eudist = 16.97056274847714\n",
    "    \n",
    "    # return -euclidean(state.x[:2], state.goal) / max_eudist\n",
    "    return -math.hypot(state.goal[0]-state.x[0], state.goal[1]-state.x[1]) / max_eudist\n",
    "\n",
    "def check_collision(x: np.ndarray) -> bool:\n",
    "    \"\"\"\n",
    "    Check if the robot is colliding with some obstacle\n",
    "    :param x: state of the robot\n",
    "    :return:\n",
    "    \"\"\"\n",
    "    config = Config()\n",
    "    x = x[np.newaxis, ...]\n",
    "    dist_to_obs: np.ndarray = cdist(x, config.ob, 'euclidean')\n",
    "    return np.any(dist_to_obs <= config.robot_radius + config.obs_size)\n",
    "\n",
    "def check_out_boundaries(state: RobotArenaState) -> bool:\n",
    "    \"\"\"\n",
    "    Check if the agent goes out of the map\n",
    "    :param state: state of the robot\n",
    "    :return:\n",
    "    \"\"\"\n",
    "    x_pos, y_pos = state.x\n",
    "    c = Config()\n",
    "    # Right and Left Map Limit\n",
    "    if x_pos + c.robot_radius > c.right_limit or x_pos - c.robot_radius < c.left_limit:\n",
    "        return True\n",
    "    # Upper and Bottom Map Limit\n",
    "    if y_pos + c.robot_radius > c.upper_limit or y_pos - c.robot_radius < c.bottom_limit:\n",
    "        return True\n",
    "\n",
    "    return False\n",
    "\n",
    "def check_goal(state: RobotArenaState) -> bool:\n",
    "    \"\"\"\n",
    "    Check if the robot reached the goal\n",
    "    :param state: state of the robot\n",
    "    :return:\n",
    "    \"\"\"\n",
    "    x = state.x\n",
    "    config = Config()\n",
    "    goal = state.goal\n",
    "    dist_to_goal = math.hypot(x[0] - goal[0], x[1] - goal[1])\n",
    "    return dist_to_goal <= config.robot_radius\n",
    "\n",
    "def get_rwrd(x_pos):\n",
    "    state = RobotArenaState(\n",
    "        x=x_pos,\n",
    "        goal=np.array([10.0, 10.0])\n",
    "    )\n",
    "    collision = check_collision(state.x)\n",
    "    goal = check_goal(state)\n",
    "    out_boundaries = check_out_boundaries(state)\n",
    "    return reward_grad(state, collision, goal, out_boundaries)\n",
    "\n",
    "def motion(x: np.ndarray, u: np.ndarray) -> np.ndarray:\n",
    "    \"\"\"\n",
    "    Describes how the robot moves\n",
    "    :param x: current robot state\n",
    "    :param u: action performed by the robot\n",
    "    :return: the new robot state\n",
    "    \"\"\"\n",
    "    dt = 0.2\n",
    "    new_x = np.array(x, copy=True)\n",
    "    # angle\n",
    "    new_x[2] += u[1] * dt\n",
    "    # vel lineare\n",
    "    new_x[3] = u[0]\n",
    "    # vel angolare\n",
    "    new_x[4] = u[1]\n",
    "    # x\n",
    "    new_x[0] += u[0] * math.cos(new_x[2]) * dt\n",
    "    # y\n",
    "    new_x[1] += u[0] * math.sin(new_x[2]) * dt\n",
    "\n",
    "    return new_x\n",
    "\n",
    "config = Config()"
   ]
  },
  {
   "cell_type": "code",
   "execution_count": null,
   "id": "25106e1c-9fe5-425f-ab96-0e61b707eb29",
   "metadata": {},
   "outputs": [],
   "source": [
    "def random_action():\n",
    "    low = [-0.1, -1.9]\n",
    "    high = [0.3, 1.9]\n",
    "    return np.array(\n",
    "            [\n",
    "                random.uniform(low[0], high[0]),\n",
    "                random.uniform(low[1], high[1])\n",
    "            ]\n",
    "        )"
   ]
  },
  {
   "cell_type": "code",
   "execution_count": null,
   "id": "093b6889-fb86-42db-94d2-e8b00351b49f",
   "metadata": {},
   "outputs": [],
   "source": [
    "def move(x_pos):\n",
    "    new_pos = x_pos\n",
    "    tot = 0\n",
    "    for i in range(5):\n",
    "        a = random_action()\n",
    "        print(a)\n",
    "        print(new_pos)\n",
    "        new_pos = motion(new_pos, a)\n",
    "        r = get_rwrd(new_pos)\n",
    "        tot += r * (0.99 ** i)\n",
    "    return tot"
   ]
  },
  {
   "cell_type": "code",
   "execution_count": null,
   "id": "dfafb4c8-c30e-4ca9-bf27-537d2d564c2b",
   "metadata": {},
   "outputs": [],
   "source": [
    "x = np.linspace(-0.5, 11.5, 1000)\n",
    "y = np.linspace(-0.5, 11.5, 1000)\n",
    "X, Y = np.meshgrid(x, y)\n",
    "pos_matrix = np.stack([X, Y], axis=2)\n",
    "zeros = np.zeros((len(x), len(y)))"
   ]
  },
  {
   "cell_type": "code",
   "execution_count": null,
   "id": "1ebe6538-aeed-4094-ab42-e7dddf7f3235",
   "metadata": {},
   "outputs": [],
   "source": [
    "pos_matrix.shape"
   ]
  },
  {
   "cell_type": "code",
   "execution_count": null,
   "id": "5d806289-d9b1-4fa1-a3c1-0bbc6e2960a6",
   "metadata": {},
   "outputs": [],
   "source": [
    "for row_num in range(pos_matrix.shape[0]):\n",
    "    for col_num in range(pos_matrix.shape[1]):\n",
    "        zeros[row_num, col_num] = move(pos_matrix[row_num, col_num])\n",
    "        # zeros[row_num, col_num] = get_rwrd(pos_matrix[row_num, col_num])"
   ]
  },
  {
   "cell_type": "code",
   "execution_count": null,
   "id": "a9d595f0-c441-48e7-a614-dad10717e028",
   "metadata": {},
   "outputs": [],
   "source": [
    "fig, ax = plt.subplots()\n",
    "cmap = ax.pcolormesh(X, Y, zeros, cmap=\"jet\")\n",
    "fig.colorbar(cmap)"
   ]
  },
  {
   "cell_type": "code",
   "execution_count": null,
   "id": "4ce9242a-1fc8-4390-b401-63f314120b53",
   "metadata": {},
   "outputs": [],
   "source": [
    "fig.savefig('heatmap_value.png', dpi=300)"
   ]
  },
  {
   "cell_type": "markdown",
   "id": "41d6b3bf-7d9b-4559-a974-49d748d9d6d3",
   "metadata": {
    "jp-MarkdownHeadingCollapsed": true,
    "tags": []
   },
   "source": [
    "# Heatmap"
   ]
  },
  {
   "cell_type": "code",
   "execution_count": null,
   "id": "35743aef-0d5f-48b4-83bd-e719bbdcf5b9",
   "metadata": {},
   "outputs": [],
   "source": [
    "from dataclasses import dataclass\n",
    "from scipy.spatial.distance import cdist, euclidean\n",
    "import numpy as np\n",
    "import matplotlib.pyplot as plt\n",
    "import random\n",
    "import os\n",
    "import math\n",
    "import seaborn as sns"
   ]
  },
  {
   "cell_type": "code",
   "execution_count": null,
   "id": "36916503-e260-4c35-b9ce-b84b5f899a1d",
   "metadata": {},
   "outputs": [],
   "source": [
    "@dataclass\n",
    "class Config:\n",
    "    \"\"\"\n",
    "    simulation parameter class\n",
    "    \"\"\"\n",
    "    # robot parameter\n",
    "    # Max U[0]\n",
    "    max_speed = 0.3  # [m/s]\n",
    "    # Min U[0]\n",
    "    min_speed = -0.1  # [m/s]\n",
    "    # Max and Min U[1]\n",
    "    # max_yaw_rate = 40.0 * math.pi / 180.0  # [rad/s]\n",
    "    max_yaw_rate = 1.9  # [rad/s]\n",
    "\n",
    "    # The action can be the relative change in speed -0.2 to 0.2\n",
    "    # max_accel = 0.2  # [m/ss]\n",
    "    # max_delta_yaw_rate = 40.0 * math.pi / 180.0  # [rad/ss]\n",
    "\n",
    "    # yaw_rate_resolution = 0.1 * math.pi / 180.0  # [rad/s]\n",
    "    dt = 0.2  # [s] Time tick for motion prediction\n",
    "    robot_radius = 0.3  # [m] for collision check\n",
    "\n",
    "    bottom_limit = -0.5\n",
    "    upper_limit = 11.5\n",
    "\n",
    "    right_limit = 11.5\n",
    "    left_limit = -0.5\n",
    "    obs_size = 0.2\n",
    "\n",
    "    num_discrete_actions = 5\n",
    "\n",
    "    # obstacles [x(m) y(m), ....]\n",
    "    ob = np.array([\n",
    "        [4.5, 5.0],\n",
    "        [5.0, 4.5],\n",
    "        [5.0, 5.0],\n",
    "        [5.0, 5.5],\n",
    "        [5.5, 5.0],\n",
    "    ])"
   ]
  },
  {
   "cell_type": "code",
   "execution_count": null,
   "id": "79a2c72b-6b5b-4da1-8736-6dd50c7d013c",
   "metadata": {},
   "outputs": [],
   "source": [
    "class RobotArenaState:\n",
    "    def __init__(self, x: np.ndarray, goal: np.ndarray):\n",
    "        # x, y, angle ,vel_lin, vel_ang\n",
    "        self.x: np.ndarray = x\n",
    "        # x(m), y(m)\n",
    "        self.goal: np.ndarray = goal"
   ]
  },
  {
   "cell_type": "code",
   "execution_count": null,
   "id": "b94a6470-ea87-4e77-b222-2b0caa65b0e3",
   "metadata": {},
   "outputs": [],
   "source": [
    "def reward_grad(state: RobotArenaState, is_collision: bool, is_goal: bool,\n",
    "                out_boundaries: bool) -> float:\n",
    "    \"\"\"\n",
    "    Defines the reward the agent receives\n",
    "    :param state: current robot state\n",
    "    :param action: action performed by the agent\n",
    "    :param is_collision: boolean value indicating if the robot is colliding\n",
    "    :param is_goal: boolean value indicating if the robot has reached the goal\n",
    "    :param out_boundaries: boolean value indicating if the robot is out of the map\n",
    "    :return: The numerical reward of the agent\n",
    "    \"\"\"\n",
    "    GOAL_REWARD: float = 1.0\n",
    "    COLLISION_REWARD: float = -100.0\n",
    "\n",
    "    if is_goal:\n",
    "        return GOAL_REWARD\n",
    "\n",
    "    if is_collision or out_boundaries:\n",
    "        return COLLISION_REWARD\n",
    "    max_eudist = 16.97056274847714\n",
    "    \n",
    "    # return -euclidean(state.x[:2], state.goal) / max_eudist\n",
    "    return -math.hypot(state.goal[0]-state.x[0], state.goal[1]-state.x[1]) / max_eudist"
   ]
  },
  {
   "cell_type": "code",
   "execution_count": null,
   "id": "968119a5-8e42-4e02-a29b-74b1f01ea5c1",
   "metadata": {},
   "outputs": [],
   "source": [
    "def check_collision(x: np.ndarray) -> bool:\n",
    "    \"\"\"\n",
    "    Check if the robot is colliding with some obstacle\n",
    "    :param x: state of the robot\n",
    "    :return:\n",
    "    \"\"\"\n",
    "    config = Config()\n",
    "    x = x[np.newaxis, ...]\n",
    "    dist_to_obs: np.ndarray = cdist(x, config.ob, 'euclidean')\n",
    "    return np.any(dist_to_obs <= config.robot_radius + config.obs_size)"
   ]
  },
  {
   "cell_type": "code",
   "execution_count": null,
   "id": "00115604-9135-496a-838f-850784c8b203",
   "metadata": {},
   "outputs": [],
   "source": [
    "def check_out_boundaries(state: RobotArenaState) -> bool:\n",
    "    \"\"\"\n",
    "    Check if the agent goes out of the map\n",
    "    :param state: state of the robot\n",
    "    :return:\n",
    "    \"\"\"\n",
    "    x_pos, y_pos = state.x\n",
    "    c = Config()\n",
    "    # Right and Left Map Limit\n",
    "    if x_pos + c.robot_radius > c.right_limit or x_pos - c.robot_radius < c.left_limit:\n",
    "        return True\n",
    "    # Upper and Bottom Map Limit\n",
    "    if y_pos + c.robot_radius > c.upper_limit or y_pos - c.robot_radius < c.bottom_limit:\n",
    "        return True\n",
    "\n",
    "    return False"
   ]
  },
  {
   "cell_type": "code",
   "execution_count": null,
   "id": "4e082827-ebf7-4bcf-812c-2367e1c64b47",
   "metadata": {},
   "outputs": [],
   "source": [
    "def check_goal(state: RobotArenaState) -> bool:\n",
    "    \"\"\"\n",
    "    Check if the robot reached the goal\n",
    "    :param state: state of the robot\n",
    "    :return:\n",
    "    \"\"\"\n",
    "    x = state.x\n",
    "    config = Config()\n",
    "    goal = state.goal\n",
    "    dist_to_goal = math.hypot(x[0] - goal[0], x[1] - goal[1])\n",
    "    return dist_to_goal <= config.robot_radius"
   ]
  },
  {
   "cell_type": "code",
   "execution_count": null,
   "id": "5da3b913-e877-4455-9684-c444de8fc69d",
   "metadata": {},
   "outputs": [],
   "source": [
    "def get_rwrd(x_pos):\n",
    "    state = RobotArenaState(\n",
    "        x=x_pos,\n",
    "        goal=np.array([10.0, 10.0])\n",
    "    )\n",
    "    collision = check_collision(state.x)\n",
    "    goal = check_goal(state)\n",
    "    out_boundaries = check_out_boundaries(state)\n",
    "    return reward_grad(state, collision, goal, out_boundaries)"
   ]
  },
  {
   "cell_type": "code",
   "execution_count": null,
   "id": "54f22c7c-c6a2-45d9-b124-8a5518d8b92e",
   "metadata": {},
   "outputs": [],
   "source": [
    "config = Config()"
   ]
  },
  {
   "cell_type": "code",
   "execution_count": null,
   "id": "5507a23b-7516-461f-ab66-bc79ce9ae6c1",
   "metadata": {},
   "outputs": [],
   "source": [
    "x = np.linspace(-0.5, 11.5, 1000)\n",
    "y = np.linspace(-0.5, 11.5, 1000)"
   ]
  },
  {
   "cell_type": "code",
   "execution_count": null,
   "id": "b77688bb-ec2a-4892-8c36-871a6fa981aa",
   "metadata": {},
   "outputs": [],
   "source": [
    "X, Y = np.meshgrid(x, y)"
   ]
  },
  {
   "cell_type": "code",
   "execution_count": null,
   "id": "584b56db-3651-4934-a713-38cc0682ce7c",
   "metadata": {},
   "outputs": [],
   "source": [
    "pos_matrix = np.stack([X, Y], axis=2)"
   ]
  },
  {
   "cell_type": "code",
   "execution_count": null,
   "id": "f267312b-194b-41d3-b79b-6de6d86acba2",
   "metadata": {},
   "outputs": [],
   "source": [
    "zeros = np.zeros((len(x), len(y)))"
   ]
  },
  {
   "cell_type": "code",
   "execution_count": null,
   "id": "e70d2678-db4a-40e8-b5d1-f033207429c7",
   "metadata": {},
   "outputs": [],
   "source": [
    "for row_num in range(pos_matrix.shape[0]):\n",
    "    for col_num in range(pos_matrix.shape[1]):\n",
    "        zeros[row_num, col_num] = get_rwrd(pos_matrix[row_num, col_num])"
   ]
  },
  {
   "cell_type": "code",
   "execution_count": null,
   "id": "7b4c47cc-6946-4054-b32c-4c8a8b059861",
   "metadata": {},
   "outputs": [],
   "source": [
    "# np.apply_along_axis(get_rwrd, axis=2, arr=pos_matrix)"
   ]
  },
  {
   "cell_type": "code",
   "execution_count": null,
   "id": "320245c6-78da-4f32-84cd-481937d79644",
   "metadata": {},
   "outputs": [],
   "source": [
    "fig, ax = plt.subplots()\n",
    "cmap = ax.pcolormesh(X, Y, zeros, cmap=\"jet\")\n",
    "fig.colorbar(cmap)"
   ]
  },
  {
   "cell_type": "code",
   "execution_count": null,
   "id": "ae5a2ed2-c57e-4e51-85a6-7cf1087408ee",
   "metadata": {},
   "outputs": [],
   "source": [
    "fig.savefig('heatmap.png', dpi=300)"
   ]
  },
  {
   "cell_type": "markdown",
   "id": "fb8a77b4-73cf-4e72-8abd-2e7500c7d0ab",
   "metadata": {},
   "source": [
    "# Q Values Plot"
   ]
  },
  {
   "cell_type": "code",
   "execution_count": 45,
   "id": "8d1aad62-6fb8-4120-aa1e-15dfef276353",
   "metadata": {},
   "outputs": [
    {
     "data": {
      "image/png": "[encoded data removed]",
      "text/plain": [
       "<Figure size 432x288 with 1 Axes>"
      ]
     },
     "metadata": {
      "needs_background": "light"
     },
     "output_type": "display_data"
    }
   ],
   "source": [
    "import numpy as np\n",
    "import matplotlib.pyplot as plt\n",
    "import seaborn as sns\n",
    "sns.set_theme()\n",
    "sns.set_palette(sns.color_palette())\n",
    "%matplotlib inline\n",
    "\n",
    "q = np.load(\"q_values_0.npz\", allow_pickle=True)\n",
    "\n",
    "for step_name in q.files:\n",
    "    data = q[step_name]\n",
    "    x = list(range(len(data)))\n",
    "    plt.clf()\n",
    "    sns.barplot(x=x, y=data, palette=\"Set2\")\n",
    "    plt.savefig(f'debug/q/q_{step_name}.png', dpi=300)"
   ]
  },
  {
   "cell_type": "markdown",
   "id": "73fe98cb-d1c5-4547-8807-fdf11f8a0808",
   "metadata": {},
   "source": [
    "# Actions"
   ]
  },
  {
   "cell_type": "code",
   "execution_count": 44,
   "id": "5b4b82bc-b536-45f1-b5a0-8b4159944484",
   "metadata": {},
   "outputs": [
    {
     "data": {
      "image/png": "[encoded data removed]",
      "text/plain": [
       "<Figure size 432x288 with 1 Axes>"
      ]
     },
     "metadata": {
      "needs_background": "light"
     },
     "output_type": "display_data"
    }
   ],
   "source": [
    "import numpy as np\n",
    "import matplotlib.pyplot as plt\n",
    "import seaborn as sns\n",
    "sns.set_theme()\n",
    "sns.set_palette(sns.color_palette())\n",
    "%matplotlib inline\n",
    "\n",
    "a = np.load(\"actions_0.npz\", allow_pickle=True)\n",
    "a_chosen = np.load(\"chosen_a_0.npz\", allow_pickle=True)['arr_0']\n",
    "idx = 0\n",
    "for step_name in q.files:\n",
    "    data = a[step_name]\n",
    "    plt.clf()\n",
    "    sns.scatterplot(x=data[:, 0], y=data[:, 1])\n",
    "    plt.plot(a_chosen[idx, 0], a_chosen[idx, 1], \"ok\")\n",
    "    plt.xlabel(\"Linear Velocity\")\n",
    "    plt.ylabel(\"Angular Velocity\")\n",
    "    plt.savefig(f'debug/a/a_{step_name}.png', dpi=300)\n",
    "    idx+=1"
   ]
  },
  {
   "cell_type": "code",
   "execution_count": null,
   "id": "9c4799d9-abfb-434c-a0dc-ffe9c91bd10f",
   "metadata": {},
   "outputs": [],
   "source": []
  }
 ],
 "metadata": {
  "kernelspec": {
   "display_name": "Python 3 (ipykernel)",
   "language": "python",
   "name": "python3"
  },
  "language_info": {
   "codemirror_mode": {
    "name": "ipython",
    "version": 3
   },
   "file_extension": ".py",
   "mimetype": "text/x-python",
   "name": "python",
   "nbconvert_exporter": "python",
   "pygments_lexer": "ipython3",
   "version": "3.10.6"
  }
 },
 "nbformat": 4,
 "nbformat_minor": 5
}
