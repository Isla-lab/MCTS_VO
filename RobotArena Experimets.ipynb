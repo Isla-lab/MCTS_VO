{
 "cells": [
  {
   "cell_type": "markdown",
   "id": "ea745379-9336-49a7-a6eb-916e9a11187b",
   "metadata": {
    "jp-MarkdownHeadingCollapsed": true,
    "tags": []
   },
   "source": [
    "# Sample Towards Goal"
   ]
  },
  {
   "cell_type": "code",
   "execution_count": 1,
   "id": "679453ab-8ddb-430f-9258-16ec9d6f9271",
   "metadata": {},
   "outputs": [],
   "source": [
    "from numpy import arctan2\n",
    "import numpy as np\n",
    "import matplotlib.pyplot as plt\n",
    "import random\n",
    "import os\n",
    "import math"
   ]
  },
  {
   "cell_type": "code",
   "execution_count": 2,
   "id": "b1d26c7c-f5c6-4b74-bcbe-16d26e0b7a3c",
   "metadata": {},
   "outputs": [],
   "source": [
    "%matplotlib inline"
   ]
  },
  {
   "cell_type": "code",
   "execution_count": 3,
   "id": "cfb50cc1-78e3-4e96-bb83-8376fe584f0b",
   "metadata": {},
   "outputs": [],
   "source": [
    "seed_value = 0\n",
    "random.seed(seed_value)\n",
    "np.random.seed(seed_value)\n",
    "os.environ['PYTHONHASHSEED'] = str(seed_value)"
   ]
  },
  {
   "cell_type": "code",
   "execution_count": 4,
   "id": "0f7a5482-91a9-4784-90d0-980eb5b7ca8b",
   "metadata": {},
   "outputs": [],
   "source": [
    "x = np.array([0., 0., math.pi / 8.0, 0.0, 0.0])\n",
    "goal = np.array([-.05, -.05])"
   ]
  },
  {
   "cell_type": "code",
   "execution_count": 5,
   "id": "eff2c07e-78e3-4a01-9278-ef56493a0f03",
   "metadata": {},
   "outputs": [],
   "source": [
    "def towards_goal(curr_x):\n",
    "    dt = 0.2\n",
    "    mean_angle = (math.atan2(goal[1] - x[1], goal[0] - x[0]) - x[2]) / dt\n",
    "    var_angle = 1.9/4\n",
    "    # var_angle = 0.5\n",
    "    angular_velocity = np.random.normal(mean_angle, var_angle**2)\n",
    "    linear_velocity = 0.3\n",
    "    return np.array([linear_velocity, angular_velocity])"
   ]
  },
  {
   "cell_type": "code",
   "execution_count": 6,
   "id": "6a6f698b-7761-4369-935f-2d70b01d46f9",
   "metadata": {},
   "outputs": [],
   "source": [
    "def motion(x: np.ndarray, u: np.ndarray) -> np.ndarray:\n",
    "    \"\"\"\n",
    "    Describes how the robot moves\n",
    "    :param x: current robot state\n",
    "    :param u: action performed by the robot\n",
    "    :return: the new robot state\n",
    "    \"\"\"\n",
    "    dt = 0.2\n",
    "    new_x = np.array(x, copy=True)\n",
    "    # angle\n",
    "    new_x[2] += u[1] * dt\n",
    "    # vel lineare\n",
    "    new_x[3] = u[0]\n",
    "    # vel angolare\n",
    "    new_x[4] = u[1]\n",
    "    # x\n",
    "    new_x[0] += u[0] * math.cos(new_x[2]) * dt\n",
    "    # y\n",
    "    new_x[1] += u[0] * math.sin(new_x[2]) * dt\n",
    "\n",
    "    return new_x"
   ]
  },
  {
   "cell_type": "code",
   "execution_count": 7,
   "id": "4e747a02-2a77-4d7a-a25b-ebd35ddeb48b",
   "metadata": {},
   "outputs": [],
   "source": [
    "# ax.plot(sub_traj[:, 0], sub_traj[:, 1], \"--r\")"
   ]
  },
  {
   "cell_type": "code",
   "execution_count": 8,
   "id": "c4f4b4c3-970b-45bd-9c51-8cea08252265",
   "metadata": {},
   "outputs": [],
   "source": [
    "actions = np.array([towards_goal(x) for _ in range(1000)])\n",
    "states = np.array([motion(x=x, u=a) for a in actions])"
   ]
  },
  {
   "cell_type": "code",
   "execution_count": 9,
   "id": "4088e6cf-c89b-4257-a93d-8801c36c6737",
   "metadata": {},
   "outputs": [
    {
     "data": {
      "image/png": "[encoded data removed]",
      "text/plain": [
       "<Figure size 432x288 with 1 Axes>"
      ]
     },
     "metadata": {
      "needs_background": "light"
     },
     "output_type": "display_data"
    }
   ],
   "source": [
    "fig = plt.figure()\n",
    "plt.cla()\n",
    "\n",
    "plt.grid(True)\n",
    "# plt.axis(\"equal\")\n",
    "vel_ang = (math.atan2(goal[1] - x[1], goal[0] - x[0]) - x[2]) / 0.2\n",
    "mean = np.array([0.3, vel_ang])\n",
    "x1 = motion(x=x, u=mean)\n",
    "\n",
    "# for s in states:\n",
    "#     fig.gca().plot([x[0], s[0]], [x[1], s[1]], \"--g\")\n",
    "\n",
    "plt.gca().scatter(states[:, 0], states[:, 1])\n",
    "# fig.gca().plot([x[0], x1[0]], [x[1], x1[1]], \"--r\")\n",
    "# ROBOT POSITION\n",
    "plt.plot(x[0], x[1], \"xr\")\n",
    "# GOAL POSITION\n",
    "plt.plot(goal[0], goal[1], \"xb\")\n",
    "# plt.plot(10, 10, \"xb\")\n",
    "\n",
    "fig.savefig(\"Sample_Towards.png\", dpi=300)"
   ]
  },
  {
   "cell_type": "code",
   "execution_count": null,
   "id": "882baed5-c74f-4e38-b8af-ec727de87f58",
   "metadata": {},
   "outputs": [],
   "source": []
  },
  {
   "cell_type": "markdown",
   "id": "14be2b53-1fd5-4e21-b073-f26f091e833a",
   "metadata": {
    "jp-MarkdownHeadingCollapsed": true,
    "tags": []
   },
   "source": [
    "# Action Evolution"
   ]
  },
  {
   "cell_type": "code",
   "execution_count": 10,
   "id": "485d25c1-7fe6-4264-8b1a-0bc2371e9720",
   "metadata": {},
   "outputs": [],
   "source": [
    "import seaborn as sns\n",
    "import pandas as pd\n",
    "sns.set_theme()"
   ]
  },
  {
   "cell_type": "code",
   "execution_count": 11,
   "id": "f9848d6d-12ab-4592-85b3-9557b813e5f4",
   "metadata": {},
   "outputs": [
    {
     "ename": "FileNotFoundError",
     "evalue": "[Errno 2] No such file or directory: 'actions.npy'",
     "output_type": "error",
     "traceback": [
      "\u001b[0;31m---------------------------------------------------------------------------\u001b[0m",
      "\u001b[0;31mFileNotFoundError\u001b[0m                         Traceback (most recent call last)",
      "Input \u001b[0;32mIn [11]\u001b[0m, in \u001b[0;36m<cell line: 1>\u001b[0;34m()\u001b[0m\n\u001b[0;32m----> 1\u001b[0m actions \u001b[38;5;241m=\u001b[39m \u001b[43mnp\u001b[49m\u001b[38;5;241;43m.\u001b[39;49m\u001b[43mload\u001b[49m\u001b[43m(\u001b[49m\u001b[38;5;124;43m\"\u001b[39;49m\u001b[38;5;124;43mactions.npy\u001b[39;49m\u001b[38;5;124;43m\"\u001b[39;49m\u001b[43m)\u001b[49m\n",
      "File \u001b[0;32m~/.local/lib/python3.10/site-packages/numpy/lib/npyio.py:390\u001b[0m, in \u001b[0;36mload\u001b[0;34m(file, mmap_mode, allow_pickle, fix_imports, encoding)\u001b[0m\n\u001b[1;32m    388\u001b[0m     own_fid \u001b[38;5;241m=\u001b[39m \u001b[38;5;28;01mFalse\u001b[39;00m\n\u001b[1;32m    389\u001b[0m \u001b[38;5;28;01melse\u001b[39;00m:\n\u001b[0;32m--> 390\u001b[0m     fid \u001b[38;5;241m=\u001b[39m stack\u001b[38;5;241m.\u001b[39menter_context(\u001b[38;5;28;43mopen\u001b[39;49m\u001b[43m(\u001b[49m\u001b[43mos_fspath\u001b[49m\u001b[43m(\u001b[49m\u001b[43mfile\u001b[49m\u001b[43m)\u001b[49m\u001b[43m,\u001b[49m\u001b[43m \u001b[49m\u001b[38;5;124;43m\"\u001b[39;49m\u001b[38;5;124;43mrb\u001b[39;49m\u001b[38;5;124;43m\"\u001b[39;49m\u001b[43m)\u001b[49m)\n\u001b[1;32m    391\u001b[0m     own_fid \u001b[38;5;241m=\u001b[39m \u001b[38;5;28;01mTrue\u001b[39;00m\n\u001b[1;32m    393\u001b[0m \u001b[38;5;66;03m# Code to distinguish from NumPy binary files and pickles.\u001b[39;00m\n",
      "\u001b[0;31mFileNotFoundError\u001b[0m: [Errno 2] No such file or directory: 'actions.npy'"
     ]
    }
   ],
   "source": [
    "actions = np.load(\"actions.npy\")"
   ]
  },
  {
   "cell_type": "code",
   "execution_count": null,
   "id": "b31a6ce9-dd92-4a47-86ce-ce03179e7a8c",
   "metadata": {},
   "outputs": [],
   "source": [
    "df = pd.DataFrame(\n",
    "    {\n",
    "        \"Linear Velocity\": actions[:, 0],\n",
    "        \"Angular Velocity\": actions[:, 1]\n",
    "    }\n",
    ")\n",
    "df = df.iloc[:500]"
   ]
  },
  {
   "cell_type": "code",
   "execution_count": null,
   "id": "d5d05a45-3925-4cde-8c2f-276a6113d31c",
   "metadata": {},
   "outputs": [],
   "source": [
    "len(df)"
   ]
  },
  {
   "cell_type": "code",
   "execution_count": null,
   "id": "edf3f068-b1f9-4bd7-bed2-56499f854968",
   "metadata": {},
   "outputs": [],
   "source": [
    "fig, axs = plt.subplots(2, sharex=True)\n",
    "sns.lineplot(data=df,x=df.index, y=\"Linear Velocity\", ax=axs[0], color= '#4c72b0')\n",
    "sns.lineplot(data=df,x=df.index, y=\"Angular Velocity\", ax=axs[1], color= '#c44e52')"
   ]
  },
  {
   "cell_type": "markdown",
   "id": "818c44e4-1524-46da-8a26-099d3f0d315b",
   "metadata": {
    "jp-MarkdownHeadingCollapsed": true,
    "tags": []
   },
   "source": [
    "# Tree Trajectories"
   ]
  },
  {
   "cell_type": "markdown",
   "id": "642c7ee6-419a-4d97-9541-35e51a1c46e2",
   "metadata": {
    "jp-MarkdownHeadingCollapsed": true,
    "tags": []
   },
   "source": [
    "## Images"
   ]
  },
  {
   "cell_type": "code",
   "execution_count": null,
   "id": "9d960525-3de8-4783-81e0-e7df706a9e58",
   "metadata": {},
   "outputs": [],
   "source": [
    "import numpy as np\n",
    "import matplotlib.pyplot as plt\n",
    "from tqdm.notebook import tqdm\n",
    "%matplotlib inline\n",
    "\n",
    "trajectories = np.load(\"trajectories.npz\", allow_pickle=True)\n",
    "values = np.load(\"rollout_values.npz\", allow_pickle=True)\n",
    "fig = plt.figure()\n",
    "sim = trajectories['arr_0']\n",
    "x = sim[0][0]\n",
    "\n",
    "bottom_limit = -0.5\n",
    "upper_limit = 11.5\n",
    "\n",
    "right_limit = 11.5\n",
    "left_limit = -0.5\n",
    "\n",
    "ob = np.array([\n",
    "        [4.5, 5.0],\n",
    "        [5.0, 4.5],\n",
    "        [5.0, 5.0],\n",
    "        [5.0, 5.5],\n",
    "        [5.5, 5.0],\n",
    "    ])\n",
    "\n",
    "\n",
    "for step_name in trajectories.files:\n",
    "    step = trajectories[step_name]\n",
    "    val_points = values[step_name]\n",
    "    last_points = np.array([trj[-1][:2] for trj in step])\n",
    "    x0 = step[0][0]\n",
    "    \n",
    "    fig = plt.figure()\n",
    "    plt.cla()\n",
    "    fig.gca().set_xlim([left_limit, right_limit])\n",
    "    fig.gca().set_ylim([bottom_limit, upper_limit])\n",
    "    plt.grid(True)\n",
    "    # ROBOT POSITION\n",
    "    plt.plot(x0[0], x0[1], \"or\")\n",
    "    # OBSTACLES\n",
    "    plt.plot(ob[:, 0], ob[:, 1], \"ok\")\n",
    "    # GOAL \n",
    "    plt.plot(10, 10, \"om\")\n",
    "    \n",
    "    plt.scatter(last_points[:, 0], last_points[:, 1], c=val_points, marker='x')\n",
    "    plt.colorbar()\n",
    "    fig.savefig(f'trajectories_{step_name}.png', dpi=300)\n",
    "    plt.close(fig)"
   ]
  },
  {
   "cell_type": "markdown",
   "id": "fbe76d39-eae2-40b9-aa57-a4b3f28b56a1",
   "metadata": {
    "tags": []
   },
   "source": [
    "## Animation"
   ]
  },
  {
   "cell_type": "code",
   "execution_count": null,
   "id": "2dd4d8d4-36cc-4a68-a0f1-0ddd24a273bd",
   "metadata": {},
   "outputs": [],
   "source": [
    "from matplotlib.animation import FuncAnimation\n",
    "import numpy as np\n",
    "import matplotlib.pyplot as plt\n",
    "from tqdm.notebook import tqdm\n",
    "\n",
    "bottom_limit = -0.5\n",
    "upper_limit = 11.5\n",
    "\n",
    "right_limit = 11.5\n",
    "left_limit = -0.5\n",
    "\n",
    "ob = np.array([\n",
    "        [4.5, 5.0],\n",
    "        [5.0, 4.5],\n",
    "        [5.0, 5.0],\n",
    "        [5.0, 5.5],\n",
    "        [5.5, 5.0],\n",
    "    ])\n",
    "\n",
    "\n",
    "def plot_frame(i, trajectories, values, fig):\n",
    "    fig.clear()\n",
    "    ax = fig.add_subplot()\n",
    "    ax.set_title(f\"Step: {i}\")\n",
    "    # plt.title(f\"Step: {i}\")\n",
    "    file_name = trajectories.files[i]\n",
    "    step = trajectories[file_name]\n",
    "    val_points = values[file_name]\n",
    "    \n",
    "    last_points = np.array([trj[-1][:2] for trj in step])\n",
    "    x0 = step[0][0]\n",
    "    \n",
    "    ax.cla()\n",
    "    ax.set_xlim([left_limit, right_limit])\n",
    "    ax.set_ylim([bottom_limit, upper_limit])\n",
    "    ax.grid(True)\n",
    "    # ROBOT POSITION\n",
    "    ax.plot(x0[0], x0[1], \"or\")\n",
    "    # OBSTACLES\n",
    "    ax.plot(ob[:, 0], ob[:, 1], \"ok\")\n",
    "    # GOAL \n",
    "    ax.plot(10, 10, \"om\")\n",
    "    cmap = ax.scatter(last_points[:, 0], last_points[:, 1], c=val_points, marker='x')\n",
    "    plt.colorbar(cmap)\n",
    "    \n",
    "trajectories = np.load(\"trajectories_0.npz\", allow_pickle=True)\n",
    "print(len(trajectories))\n",
    "values = np.load(\"rollout_values_0.npz\", allow_pickle=True)\n",
    "print(len(values))\n",
    "fig = plt.figure()\n",
    "\n",
    "ani = FuncAnimation(\n",
    "    fig,\n",
    "    plot_frame,\n",
    "    fargs=(trajectories, values, fig),\n",
    "    frames=len(trajectories)\n",
    ")\n",
    "ani.save(f\"animation.mp4\", fps=5, dpi=300)\n",
    "print(\"Done\")"
   ]
  },
  {
   "cell_type": "markdown",
   "id": "41d6b3bf-7d9b-4559-a974-49d748d9d6d3",
   "metadata": {
    "jp-MarkdownHeadingCollapsed": true,
    "tags": []
   },
   "source": [
    "# Heatmap"
   ]
  },
  {
   "cell_type": "code",
   "execution_count": null,
   "id": "35743aef-0d5f-48b4-83bd-e719bbdcf5b9",
   "metadata": {},
   "outputs": [],
   "source": [
    "from dataclasses import dataclass\n",
    "from scipy.spatial.distance import cdist, euclidean\n",
    "import numpy as np\n",
    "import matplotlib.pyplot as plt\n",
    "import random\n",
    "import os\n",
    "import math\n",
    "import seaborn as sns\n",
    "from bettergym.environments.robot_arena import RobotArenaState,RobotArena, dist_to_goal\n",
    "from environment_creator import create_env_four_obs_difficult_continuous, create_env_five_small_obs_continuous"
   ]
  },
  {
   "cell_type": "code",
   "execution_count": null,
   "id": "5da3b913-e877-4455-9684-c444de8fc69d",
   "metadata": {},
   "outputs": [],
   "source": [
    "def get_rwrd(env, x_pos):\n",
    "    env = env.gym_env\n",
    "    state = env.state\n",
    "    state.x[:2] = x_pos\n",
    "    env.dist_goal = dist_to_goal(state.x[:2], env.state.goal)\n",
    "    \n",
    "    collision = env.check_collision(state)\n",
    "    goal = env.dist_goal <= env.config.robot_radius\n",
    "    out_boundaries = env.check_out_boundaries(state)\n",
    "    return env.reward_grad(state=None, action=None, is_collision=collision, is_goal=goal, out_boundaries=out_boundaries)"
   ]
  },
  {
   "cell_type": "code",
   "execution_count": null,
   "id": "54f22c7c-c6a2-45d9-b124-8a5518d8b92e",
   "metadata": {},
   "outputs": [],
   "source": [
    "real_env = create_env_five_small_obs_continuous(initial_pos=(1, 1), goal=(10, 10))"
   ]
  },
  {
   "cell_type": "code",
   "execution_count": null,
   "id": "5507a23b-7516-461f-ab66-bc79ce9ae6c1",
   "metadata": {},
   "outputs": [],
   "source": [
    "x = np.linspace(-0.5, 11.5, 1000)\n",
    "y = np.linspace(-0.5, 11.5, 1000)"
   ]
  },
  {
   "cell_type": "code",
   "execution_count": null,
   "id": "b77688bb-ec2a-4892-8c36-871a6fa981aa",
   "metadata": {},
   "outputs": [],
   "source": [
    "X, Y = np.meshgrid(x, y)"
   ]
  },
  {
   "cell_type": "code",
   "execution_count": null,
   "id": "584b56db-3651-4934-a713-38cc0682ce7c",
   "metadata": {},
   "outputs": [],
   "source": [
    "pos_matrix = np.stack([X, Y], axis=2)"
   ]
  },
  {
   "cell_type": "code",
   "execution_count": null,
   "id": "f267312b-194b-41d3-b79b-6de6d86acba2",
   "metadata": {},
   "outputs": [],
   "source": [
    "zeros = np.zeros((len(x), len(y)))"
   ]
  },
  {
   "cell_type": "code",
   "execution_count": null,
   "id": "e70d2678-db4a-40e8-b5d1-f033207429c7",
   "metadata": {},
   "outputs": [],
   "source": [
    "for row_num in range(pos_matrix.shape[0]):\n",
    "    for col_num in range(pos_matrix.shape[1]):\n",
    "        zeros[row_num, col_num] = get_rwrd(real_env, pos_matrix[row_num, col_num])"
   ]
  },
  {
   "cell_type": "code",
   "execution_count": null,
   "id": "7b4c47cc-6946-4054-b32c-4c8a8b059861",
   "metadata": {},
   "outputs": [],
   "source": [
    "# np.apply_along_axis(get_rwrd, axis=2, arr=pos_matrix)"
   ]
  },
  {
   "cell_type": "code",
   "execution_count": null,
   "id": "320245c6-78da-4f32-84cd-481937d79644",
   "metadata": {},
   "outputs": [],
   "source": [
    "fig, ax = plt.subplots()\n",
    "cmap = ax.pcolormesh(X, Y, zeros, cmap=\"jet\")\n",
    "fig.colorbar(cmap)"
   ]
  },
  {
   "cell_type": "code",
   "execution_count": null,
   "id": "ae5a2ed2-c57e-4e51-85a6-7cf1087408ee",
   "metadata": {},
   "outputs": [],
   "source": [
    "fig.savefig('heatmap.png', dpi=300)"
   ]
  },
  {
   "cell_type": "markdown",
   "id": "fb8a77b4-73cf-4e72-8abd-2e7500c7d0ab",
   "metadata": {
    "jp-MarkdownHeadingCollapsed": true,
    "tags": []
   },
   "source": [
    "# Q Values Plot"
   ]
  },
  {
   "cell_type": "code",
   "execution_count": null,
   "id": "8d1aad62-6fb8-4120-aa1e-15dfef276353",
   "metadata": {},
   "outputs": [],
   "source": [
    "import numpy as np\n",
    "import matplotlib.pyplot as plt\n",
    "import seaborn as sns\n",
    "sns.set_theme()\n",
    "sns.set_palette(sns.color_palette())\n",
    "%matplotlib inline\n",
    "\n",
    "q = np.load(\"q_values_0.npz\", allow_pickle=True)\n",
    "\n",
    "for step_name in q.files:\n",
    "    data = q[step_name]\n",
    "    x = list(range(len(data)))\n",
    "    plt.clf()\n",
    "    sns.barplot(x=x, y=data, palette=\"Set2\")\n",
    "    plt.savefig(f'debug/q/q_{step_name}.png', dpi=300)"
   ]
  },
  {
   "cell_type": "markdown",
   "id": "73fe98cb-d1c5-4547-8807-fdf11f8a0808",
   "metadata": {
    "jp-MarkdownHeadingCollapsed": true,
    "tags": []
   },
   "source": [
    "# Actions"
   ]
  },
  {
   "cell_type": "code",
   "execution_count": null,
   "id": "5b4b82bc-b536-45f1-b5a0-8b4159944484",
   "metadata": {},
   "outputs": [],
   "source": [
    "import numpy as np\n",
    "import matplotlib.pyplot as plt\n",
    "import seaborn as sns\n",
    "sns.set_theme()\n",
    "sns.set_palette(sns.color_palette())\n",
    "%matplotlib inline\n",
    "\n",
    "a = np.load(\"actions_0.npz\", allow_pickle=True)\n",
    "a_chosen = np.load(\"chosen_a_0.npz\", allow_pickle=True)['arr_0']\n",
    "idx = 0\n",
    "for step_name in q.files:\n",
    "    data = a[step_name]\n",
    "    plt.clf()\n",
    "    sns.scatterplot(x=data[:, 0], y=data[:, 1])\n",
    "    plt.plot(a_chosen[idx, 0], a_chosen[idx, 1], \"ok\")\n",
    "    plt.xlabel(\"Linear Velocity\")\n",
    "    plt.ylabel(\"Angular Velocity\")\n",
    "    plt.savefig(f'debug/a/a_{step_name}.png', dpi=300)\n",
    "    idx+=1"
   ]
  },
  {
   "cell_type": "markdown",
   "id": "c79e0d72-18e2-4a18-87cf-02d6c8191f4c",
   "metadata": {
    "jp-MarkdownHeadingCollapsed": true,
    "tags": []
   },
   "source": [
    "#  Stuff"
   ]
  },
  {
   "cell_type": "code",
   "execution_count": null,
   "id": "9c4799d9-abfb-434c-a0dc-ffe9c91bd10f",
   "metadata": {},
   "outputs": [],
   "source": [
    "import numpy as np\n",
    "import matplotlib.pyplot as plt\n",
    "import seaborn as sns\n",
    "sns.set_theme()\n",
    "sns.set_palette(sns.color_palette())\n",
    "%matplotlib inline\n",
    "\n",
    "trj = np.load(\"trajectory_real_0.npz\", allow_pickle=True)['arr_0']\n",
    "x_vals = trj[:, 0]\n",
    "y_vals = trj[:, 1]\n",
    "angles = trj[:, 2]\n",
    "lin_vel = trj[:, 3]\n",
    "\n",
    "# X\n",
    "plt.clf()\n",
    "sns.lineplot(x=range(len(x_vals)), y=x_vals)\n",
    "plt.xlabel(\"Step\")\n",
    "plt.ylabel(\"X\")\n",
    "plt.savefig('debug/X.svg', dpi=300)\n",
    "\n",
    "# Y\n",
    "plt.clf()\n",
    "sns.lineplot(x=range(len(y_vals)), y=y_vals)\n",
    "plt.xlabel(\"Step\")\n",
    "plt.ylabel(\"Y\")\n",
    "plt.savefig('debug/Y.svg', dpi=300)\n",
    "\n",
    "# Lin Vel\n",
    "plt.clf()\n",
    "sns.lineplot(x=range(len(lin_vel)), y=lin_vel)\n",
    "plt.xlabel(\"Step\")\n",
    "plt.ylabel(\"Linear Velocity\")\n",
    "plt.savefig('debug/Lin Vel.svg', dpi=300)\n",
    "\n",
    "# Angles\n",
    "plt.clf()\n",
    "sns.lineplot(x=range(len(angles)), y=angles)\n",
    "plt.xlabel(\"Step\")\n",
    "plt.ylabel(\"Angles\")\n",
    "plt.savefig('debug/Angles.svg', dpi=300)"
   ]
  },
  {
   "cell_type": "markdown",
   "id": "bf9a5224-f0e2-43a2-aa63-ab2388441b7c",
   "metadata": {},
   "source": [
    "# Reducing Simulations"
   ]
  },
  {
   "cell_type": "code",
   "execution_count": 1,
   "id": "8fecc8de-d719-4a1b-9e4c-4ae61d351245",
   "metadata": {},
   "outputs": [],
   "source": [
    "import pandas as pd\n",
    "import matplotlib.pyplot as plt\n",
    "import seaborn as sns\n",
    "import numpy as np\n",
    "sns.set_theme()"
   ]
  },
  {
   "cell_type": "code",
   "execution_count": 2,
   "id": "68d75383",
   "metadata": {},
   "outputs": [],
   "source": [
    "def plot_change(dataframe: pd.DataFrame, mean_name: str,zoom: bool, std_name:str = None):\n",
    "    if zoom:\n",
    "        dataframe = dataframe[dataframe.index <= 200 ]\n",
    "    plt.clf()\n",
    "    fig = plt.Figure((12, 6))\n",
    "    for v in np.unique(dataframe[\"algorithm\"].values):\n",
    "        sub_df = dataframe[dataframe[\"algorithm\"] == v]\n",
    "        sns.lineplot(\n",
    "            y=sub_df[mean_name].values, x=sub_df.index.values,ax=fig.gca(), marker='o', label=v\n",
    "        )\n",
    "        if std_name is not None:\n",
    "            fig.gca().fill_between(\n",
    "                sub_df.index.values,\n",
    "                sub_df[mean_name].values - sub_df[std_name].values,\n",
    "                sub_df[mean_name].values + sub_df[std_name].values,\n",
    "                alpha=0.2\n",
    "            )\n",
    "\n",
    "    fig.gca().invert_xaxis()\n",
    "#     fig.gca().set_xticks(df.index.values)\n",
    "    plt.xticks(rotation=-45)\n",
    "    fig.tight_layout()\n",
    "#     fig.legend()\n",
    "    \n",
    "    fig.savefig(f'{mean_name}_chance{\"_zoom\" if zoom else \"\"}.png', dpi=500, facecolor='white', edgecolor='none')\n",
    "#     plt.savefig(f'{name}_chance{\"_zoom\" if zoom else \"\"}.svg', dpi=500, facecolor='white', edgecolor='none')\n",
    "    "
   ]
  },
  {
   "cell_type": "code",
   "execution_count": 3,
   "id": "24fc4de2",
   "metadata": {},
   "outputs": [],
   "source": [
    "df = pd.read_csv('AGGREGATED_DATA.csv')"
   ]
  },
  {
   "cell_type": "code",
   "execution_count": 4,
   "id": "d77d095c",
   "metadata": {},
   "outputs": [
    {
     "data": {
      "text/html": [
       "<div>\n",
       "<style scoped>\n",
       "    .dataframe tbody tr th:only-of-type {\n",
       "        vertical-align: middle;\n",
       "    }\n",
       "\n",
       "    .dataframe tbody tr th {\n",
       "        vertical-align: top;\n",
       "    }\n",
       "\n",
       "    .dataframe thead th {\n",
       "        text-align: right;\n",
       "    }\n",
       "</style>\n",
       "<table border=\"1\" class=\"dataframe\">\n",
       "  <thead>\n",
       "    <tr style=\"text-align: right;\">\n",
       "      <th></th>\n",
       "      <th>algorithm</th>\n",
       "      <th>rollout</th>\n",
       "      <th>nsim</th>\n",
       "      <th>cumRwrd</th>\n",
       "      <th>nSteps</th>\n",
       "      <th>MeanStepTime</th>\n",
       "      <th>reachGoal</th>\n",
       "      <th>total</th>\n",
       "      <th>stdcumRwrd</th>\n",
       "      <th>stdnSteps</th>\n",
       "      <th>StdStepTime</th>\n",
       "    </tr>\n",
       "  </thead>\n",
       "  <tbody>\n",
       "    <tr>\n",
       "      <th>16</th>\n",
       "      <td>VANILLA_VO2</td>\n",
       "      <td>epsilon_uniform_uniform</td>\n",
       "      <td>10</td>\n",
       "      <td>-60.18</td>\n",
       "      <td>378.1</td>\n",
       "      <td>0.13</td>\n",
       "      <td>10</td>\n",
       "      <td>10</td>\n",
       "      <td>52.14</td>\n",
       "      <td>102.63</td>\n",
       "      <td>0.01</td>\n",
       "    </tr>\n",
       "    <tr>\n",
       "      <th>20</th>\n",
       "      <td>VANILLA_VO_ROLLOUT</td>\n",
       "      <td>epsilon_uniform_uniform</td>\n",
       "      <td>10</td>\n",
       "      <td>-74.31</td>\n",
       "      <td>385.4</td>\n",
       "      <td>0.13</td>\n",
       "      <td>10</td>\n",
       "      <td>10</td>\n",
       "      <td>51.13</td>\n",
       "      <td>67.89</td>\n",
       "      <td>0.02</td>\n",
       "    </tr>\n",
       "    <tr>\n",
       "      <th>32</th>\n",
       "      <td>VANILLA_VO_ALBERO</td>\n",
       "      <td>epsilon_uniform_uniform</td>\n",
       "      <td>10</td>\n",
       "      <td>-277.98</td>\n",
       "      <td>619.8</td>\n",
       "      <td>0.02</td>\n",
       "      <td>9</td>\n",
       "      <td>10</td>\n",
       "      <td>194.88</td>\n",
       "      <td>213.03</td>\n",
       "      <td>0.00</td>\n",
       "    </tr>\n",
       "    <tr>\n",
       "      <th>34</th>\n",
       "      <td>VANILLA</td>\n",
       "      <td>epsilon_uniform_uniform</td>\n",
       "      <td>10</td>\n",
       "      <td>-313.24</td>\n",
       "      <td>663.4</td>\n",
       "      <td>0.02</td>\n",
       "      <td>9</td>\n",
       "      <td>10</td>\n",
       "      <td>179.71</td>\n",
       "      <td>175.14</td>\n",
       "      <td>0.00</td>\n",
       "    </tr>\n",
       "  </tbody>\n",
       "</table>\n",
       "</div>"
      ],
      "text/plain": [
       "             algorithm                  rollout  nsim  cumRwrd  nSteps  \\\n",
       "16         VANILLA_VO2  epsilon_uniform_uniform    10   -60.18   378.1   \n",
       "20  VANILLA_VO_ROLLOUT  epsilon_uniform_uniform    10   -74.31   385.4   \n",
       "32   VANILLA_VO_ALBERO  epsilon_uniform_uniform    10  -277.98   619.8   \n",
       "34             VANILLA  epsilon_uniform_uniform    10  -313.24   663.4   \n",
       "\n",
       "    MeanStepTime  reachGoal  total  stdcumRwrd  stdnSteps  StdStepTime  \n",
       "16          0.13         10     10       52.14     102.63         0.01  \n",
       "20          0.13         10     10       51.13      67.89         0.02  \n",
       "32          0.02          9     10      194.88     213.03         0.00  \n",
       "34          0.02          9     10      179.71     175.14         0.00  "
      ]
     },
     "execution_count": 4,
     "metadata": {},
     "output_type": "execute_result"
    }
   ],
   "source": [
    "df[df[\"nsim\"]==10]"
   ]
  },
  {
   "cell_type": "code",
   "execution_count": 5,
   "id": "3ca33d96",
   "metadata": {},
   "outputs": [],
   "source": [
    "df_rwrd = df[[\"algorithm\", \"nsim\", \"cumRwrd\", \"stdcumRwrd\"]].pivot(index=\"nsim\", columns='algorithm', values=['cumRwrd', 'stdcumRwrd']).stack().reset_index(1)\n",
    "df_time = df[[\"algorithm\", \"nsim\", \"MeanStepTime\", \"StdStepTime\"]].pivot(index=\"nsim\", columns='algorithm', values=['MeanStepTime', \"StdStepTime\"]).stack().reset_index(1)\n",
    "df_step = df[[\"algorithm\", \"nsim\", \"nSteps\", \"stdnSteps\"]].pivot(index=\"nsim\", columns='algorithm', values=['nSteps', \"stdnSteps\"]).stack().reset_index(1)\n",
    "df_success = df[[\"algorithm\", \"nsim\", \"reachGoal\"]].pivot(index=\"nsim\", columns='algorithm', values='reachGoal').stack().reset_index(1)"
   ]
  },
  {
   "cell_type": "code",
   "execution_count": 6,
   "id": "aa1543ac-241a-4dd4-a955-be0fa274bab1",
   "metadata": {},
   "outputs": [
    {
     "data": {
      "image/png": "[encoded data removed]",
      "text/plain": [
       "<Figure size 432x288 with 1 Axes>"
      ]
     },
     "metadata": {
      "needs_background": "light"
     },
     "output_type": "display_data"
    }
   ],
   "source": [
    "plot_change(dataframe=df_rwrd, mean_name='cumRwrd', zoom=False, std_name=\"stdcumRwrd\")\n",
    "plot_change(dataframe=df_rwrd, mean_name='cumRwrd', zoom=True, std_name=\"stdcumRwrd\")\n",
    "plot_change(dataframe=df_time, mean_name='MeanStepTime', zoom=False, std_name=\"StdStepTime\")\n",
    "plot_change(dataframe=df_time, mean_name='MeanStepTime', zoom=True, std_name=\"StdStepTime\")\n",
    "plot_change(dataframe=df_step, mean_name='nSteps', zoom=False, std_name=\"stdnSteps\")\n",
    "plot_change(dataframe=df_step, mean_name='nSteps', zoom=True, std_name=\"stdnSteps\")\n",
    "plot_change(dataframe=df_success, mean_name=0, zoom=False)\n",
    "plot_change(dataframe=df_success, mean_name=0, zoom=True)"
   ]
  },
  {
   "cell_type": "code",
   "execution_count": null,
   "id": "8f1a6c00",
   "metadata": {},
   "outputs": [],
   "source": []
  },
  {
   "cell_type": "code",
   "execution_count": null,
   "id": "c9416386",
   "metadata": {},
   "outputs": [],
   "source": []
  }
 ],
 "metadata": {
  "kernelspec": {
   "display_name": "Python 3 (ipykernel)",
   "language": "python",
   "name": "python3"
  },
  "language_info": {
   "codemirror_mode": {
    "name": "ipython",
    "version": 3
   },
   "file_extension": ".py",
   "mimetype": "text/x-python",
   "name": "python",
   "nbconvert_exporter": "python",
   "pygments_lexer": "ipython3",
   "version": "3.10.12"
  }
 },
 "nbformat": 4,
 "nbformat_minor": 5
}
