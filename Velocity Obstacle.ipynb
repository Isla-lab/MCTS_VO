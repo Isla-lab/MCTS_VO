{
 "cells": [
  {
   "cell_type": "markdown",
   "id": "46988a70-2ca8-4441-9d03-530165af6e30",
   "metadata": {
    "jp-MarkdownHeadingCollapsed": true,
    "tags": []
   },
   "source": [
    "# Complicated VO"
   ]
  },
  {
   "cell_type": "code",
   "execution_count": null,
   "id": "b3679185-0e18-46e5-9953-3c3adedcc41f",
   "metadata": {},
   "outputs": [],
   "source": [
    "import numpy as np\n",
    "import math"
   ]
  },
  {
   "cell_type": "code",
   "execution_count": null,
   "id": "1355997b-e638-4109-b52b-3e8725463160",
   "metadata": {},
   "outputs": [],
   "source": [
    "ROBOT_RADIUS = 0.3\n",
    "OBS_RADIUS = 0.2\n",
    "obs_position = np.array([4.5, 5.0])\n",
    "x = np.array([3.0, 4.0, math.pi / 8.0, 0, 0.0])\n",
    "u = np.array([0.3, 1.9])\n",
    "dt = 0.2"
   ]
  },
  {
   "cell_type": "code",
   "execution_count": null,
   "id": "a3158831-53f7-49e2-8a1c-c601ee94a092",
   "metadata": {},
   "outputs": [],
   "source": [
    "def compute_velocity_obstacle(robot_pos, robot_vel, robot_radius, obs_pos, obs_radius, max_speed):\n",
    "    \"\"\"Compute velocity obstacle for circular robot and obstacle in a 2D space.\"\"\"\n",
    "    \n",
    "    # Compute relative position and velocity of obstacle\n",
    "    rel_pos = obs_pos - robot_pos\n",
    "    rel_vel = np.array([0.0, 0.0]) - robot_vel\n",
    "    \n",
    "    # Compute discriminant for quadratic equation\n",
    "    a = np.dot(rel_vel, rel_vel) - max_speed**2\n",
    "    b = 2 * np.dot(rel_vel, rel_pos)\n",
    "    c = np.dot(rel_pos, rel_pos) - (robot_radius + obs_radius)**2\n",
    "    discriminant = b**2 - 4*a*c\n",
    "    \n",
    "    # Check if there is a valid solution for time-to-collision\n",
    "    if discriminant < 0:\n",
    "        # No intersection point, full velocity space is valid\n",
    "        vo_left = -max_speed\n",
    "        vo_right = max_speed\n",
    "    else:\n",
    "        # Compute time-to-collision for both intersection points\n",
    "        ttc1 = (-b - np.sqrt(discriminant)) / (2*a)\n",
    "        ttc2 = (-b + np.sqrt(discriminant)) / (2*a)\n",
    "        \n",
    "        # Compute intersection points\n",
    "        ip1 = robot_pos + (robot_vel * ttc1)\n",
    "        ip2 = robot_pos + (robot_vel * ttc2)\n",
    "        \n",
    "        # Compute unit tangent vector from robot to obstacle\n",
    "        tan_vec = rel_pos / np.linalg.norm(rel_pos)\n",
    "        norm_vec = np.array([-tan_vec[1], tan_vec[0]])\n",
    "        \n",
    "        # Compute velocity space for each intersection point\n",
    "        vo_left_1 = np.dot(-robot_vel + max_speed * tan_vec, norm_vec)\n",
    "        vo_right_1 = np.dot(-robot_vel + max_speed * tan_vec, -norm_vec)\n",
    "        vo_left_2 = np.dot(-robot_vel + max_speed * tan_vec, norm_vec)\n",
    "        vo_right_2 = np.dot(-robot_vel + max_speed * tan_vec, -norm_vec)\n",
    "        \n",
    "        # Take the union of the velocity spaces\n",
    "        vo_left = max(vo_left_1, vo_left_2, -max_speed)\n",
    "        vo_right = min(vo_right_1, vo_right_2, max_speed)\n",
    "        \n",
    "    return vo_left, vo_right\n"
   ]
  },
  {
   "cell_type": "markdown",
   "id": "7a7de51e-fc8c-49e4-9c68-97416917ca81",
   "metadata": {
    "jp-MarkdownHeadingCollapsed": true,
    "tags": []
   },
   "source": [
    "# Simple Velocity Obstacle"
   ]
  },
  {
   "cell_type": "code",
   "execution_count": 14,
   "id": "47887c83-2c61-476d-886c-24c813018008",
   "metadata": {},
   "outputs": [],
   "source": [
    "import numpy as np\n",
    "import math\n",
    "import matplotlib.pyplot as plt"
   ]
  },
  {
   "cell_type": "code",
   "execution_count": 15,
   "id": "ca16549d-e7b7-40da-a775-1502bd226c28",
   "metadata": {},
   "outputs": [],
   "source": [
    "from dataclasses import dataclass\n",
    "@dataclass\n",
    "class Config:\n",
    "    \"\"\"\n",
    "    simulation parameter class\n",
    "    \"\"\"\n",
    "    # robot parameter\n",
    "    # Max U[0]\n",
    "    max_speed = 0.3  # [m/s]\n",
    "    # Min U[0]\n",
    "    min_speed = -0.1  # [m/s]\n",
    "    # Max and Min U[1]\n",
    "    # max_yaw_rate = 40.0 * math.pi / 180.0  # [rad/s]\n",
    "    max_yaw_rate = 1.9  # [rad/s]\n",
    "\n",
    "    # The action can be the relative change in speed -0.2 to 0.2\n",
    "    # max_accel = 0.2  # [m/ss]\n",
    "    # max_delta_yaw_rate = 40.0 * math.pi / 180.0  # [rad/ss]\n",
    "\n",
    "    # yaw_rate_resolution = 0.1 * math.pi / 180.0  # [rad/s]\n",
    "    dt = 0.2  # [s] Time tick for motion prediction\n",
    "    robot_radius = 0.3  # [m] for collision check\n",
    "\n",
    "    bottom_limit = -0.5\n",
    "    upper_limit = 11.5\n",
    "\n",
    "    right_limit = 11.5\n",
    "    left_limit = -0.5\n",
    "    obs_size = 0.2\n",
    "\n",
    "    num_discrete_actions = 5\n",
    "\n",
    "    # obstacles [x(m) y(m), ....]\n",
    "    ob = np.array([\n",
    "        [4.5, 5.0],\n",
    "        [5.0, 4.5],\n",
    "        [5.0, 5.0],\n",
    "        [5.0, 5.5],\n",
    "        [5.5, 5.0],\n",
    "    ])\n"
   ]
  },
  {
   "cell_type": "code",
   "execution_count": 16,
   "id": "cb6dc3d8-a6e8-4fd3-a15f-b975a7a95fbf",
   "metadata": {},
   "outputs": [],
   "source": [
    "def plot_robot(x, y, yaw, config, ax):\n",
    "    circle = plt.Circle((x, y), config.robot_radius, color=\"b\")\n",
    "    ax.add_artist(circle)\n",
    "    out_x, out_y = (np.array([x, y]) +\n",
    "                    np.array([np.cos(yaw), np.sin(yaw)]) * config.robot_radius)\n",
    "    ax.plot([x, out_x], [y, out_y], \"-k\")\n",
    "\n",
    "\n",
    "def plot_frame(i, goal, config, ax, x):\n",
    "    ob = config.ob\n",
    "    ax.clear()\n",
    "    # ROBOT POSITION\n",
    "    ax.plot(x[0], x[1], \"xr\")\n",
    "    # GOAL POSITION\n",
    "    ax.plot(goal[0], goal[1], \"xb\")\n",
    "    # OBSTACLES\n",
    "    ax.plot(ob[:, 0], ob[:, 1], \"ok\")\n",
    "    # BOX AROUND ROBOT\n",
    "    plot_robot(x[0], x[1], x[2], config, ax)\n",
    "\n",
    "    ax.set_xlim([config.left_limit, config.right_limit])\n",
    "    ax.set_ylim([config.bottom_limit, config.upper_limit])\n",
    "    # ax.axis(\"equal\")\n",
    "    ax.grid(True)\n",
    "    \n",
    "def motion(x: np.ndarray, u: np.ndarray) -> np.ndarray:\n",
    "    \"\"\"\n",
    "    Describes how the robot moves\n",
    "    :param x: current robot state\n",
    "    :param u: action performed by the robot\n",
    "    :return: the new robot state\n",
    "    \"\"\"\n",
    "    dt = 0.2\n",
    "    new_x = np.array(x, copy=True)\n",
    "\n",
    "    # angle\n",
    "    new_x[2] += u[1] * dt\n",
    "    # vel lineare\n",
    "    new_x[3] = u[0]\n",
    "    # vel angolare\n",
    "    new_x[4] = u[1]\n",
    "    # x\n",
    "    new_x[0] += u[0] * math.cos(new_x[2]) * dt\n",
    "    # y\n",
    "    new_x[1] += u[0] * math.sin(new_x[2]) * dt\n",
    "\n",
    "    return new_x\n",
    "\n",
    "def velocity_obstacle_complete(x, obs, dt):\n",
    "    left_cone = np.inf\n",
    "    right_cone = -np.inf\n",
    "    for ob in obs:\n",
    "        dist_to_ob = math.hypot(ob[0] - x[0], ob[1] - x[1])\n",
    "        beta = math.asin((ROBOT_RADIUS+OBS_RADIUS)/dist_to_ob)\n",
    "        \n",
    "        beta = math.atan2(math.sin(beta), math.cos(beta))\n",
    "\n",
    "        theta = math.atan2(ob[1] - x[1], ob[0] - x[0])\n",
    "        forbidden_angles = [theta-beta-x[2], theta+beta-x[2]]\n",
    "        forbidden_ang_vel = [a/dt for a in forbidden_angles]\n",
    "        left_cone = min(left_cone, forbidden_ang_vel[0])\n",
    "        right_cone = max(right_cone, forbidden_ang_vel[1])\n",
    "    return left_cone, right_cone\n",
    "\n",
    "def velocity_obstacle_nearest(x, obs, dt):\n",
    "    left_cone = np.inf\n",
    "    right_cone = -np.inf\n",
    "    distances = [math.hypot(ob[0] - x[0], ob[1] - x[1]) for ob in obs]\n",
    "    dist_to_ob_idx = np.argmin(distances)\n",
    "    dist_to_ob = distances[dist_to_ob_idx]\n",
    "    ob = obs[dist_to_ob_idx]\n",
    "    beta = math.asin((ROBOT_RADIUS+OBS_RADIUS)/dist_to_ob)\n",
    "\n",
    "    beta = math.atan2(math.sin(beta), math.cos(beta))\n",
    "\n",
    "    theta = math.atan2(ob[1] - x[1], ob[0] - x[0])\n",
    "    forbidden_angles = [theta-beta-x[2], theta+beta-x[2]]\n",
    "    forbidden_ang_vel = [a/dt for a in forbidden_angles]\n",
    "    left_cone = min(left_cone, forbidden_ang_vel[0])\n",
    "    right_cone = max(right_cone, forbidden_ang_vel[1])\n",
    "    return left_cone, right_cone"
   ]
  },
  {
   "cell_type": "code",
   "execution_count": 22,
   "id": "52845ea7-187b-4fb6-ae26-7e807daaa892",
   "metadata": {},
   "outputs": [],
   "source": [
    "ROBOT_RADIUS = 0.3\n",
    "OBS_RADIUS = 0.2\n",
    "ob = np.array([4.5, 5.0])\n",
    "x = np.array([6.0, 6.0, math.pi / 8.0, 0, 0.0])\n",
    "u = np.array([0.3, 1.9])\n",
    "goal = np.array([10, 10])\n",
    "dt = 0.2"
   ]
  },
  {
   "cell_type": "code",
   "execution_count": 24,
   "id": "4af10868-13f8-494e-8c82-53be4a9db37f",
   "metadata": {},
   "outputs": [
    {
     "name": "stdout",
     "output_type": "stream",
     "text": [
      "(-17.671458676442587, -9.817477042468102)\n"
     ]
    },
    {
     "data": {
      "image/png": "[encoded data removed]",
      "text/plain": [
       "<Figure size 432x288 with 1 Axes>"
      ]
     },
     "metadata": {
      "needs_background": "light"
     },
     "output_type": "display_data"
    }
   ],
   "source": [
    "fig, axis = plt.subplots()\n",
    "c = Config()\n",
    "plot_frame(i=0, goal=goal, config=c, ax=axis, x=x)\n",
    "\n",
    "forbidden_ang_vel = velocity_obstacle_complete(x, c.ob, 0.2)\n",
    "print(forbidden_ang_vel)\n",
    "\n",
    "left_tangent = motion(x, [20, forbidden_ang_vel[0]])\n",
    "right_tangent = motion(x, [20, forbidden_ang_vel[1]])\n",
    "\n",
    "x_values = [x[0], left_tangent[0]]\n",
    "y_values = [x[1], left_tangent[1]]\n",
    "axis.plot(x_values, y_values)\n",
    "\n",
    "x_values = [x[0], right_tangent[0]]\n",
    "y_values = [x[1], right_tangent[1]]\n",
    "axis.plot(x_values, y_values)\n",
    "plt.show()\n",
    "fig.savefig('VO.png', dpi=300)"
   ]
  },
  {
   "cell_type": "code",
   "execution_count": null,
   "id": "17f9dabe-d409-4449-b871-8fa3b06874d9",
   "metadata": {},
   "outputs": [],
   "source": [
    "a = [-0.42865689826985104, 2.381692116758285]"
   ]
  },
  {
   "cell_type": "code",
   "execution_count": null,
   "id": "fcedfb02-ace9-48b4-a155-0386046d4368",
   "metadata": {},
   "outputs": [],
   "source": [
    "in_range = lambda x, rng: rng[0]<=x<=rng[1]"
   ]
  },
  {
   "cell_type": "code",
   "execution_count": null,
   "id": "67cedaf2-f243-47f8-b83e-ad4d9c25e5b6",
   "metadata": {},
   "outputs": [],
   "source": [
    "n = 2.3\n",
    "in_range(n , a)"
   ]
  },
  {
   "cell_type": "markdown",
   "id": "2a716b98-94e8-4210-a774-360077fd752a",
   "metadata": {
    "jp-MarkdownHeadingCollapsed": true,
    "tags": []
   },
   "source": [
    "# Velocity Obstacle V2"
   ]
  },
  {
   "cell_type": "code",
   "execution_count": null,
   "id": "570cc3f1-327e-4ae5-a56f-d7c06bbc911d",
   "metadata": {},
   "outputs": [],
   "source": [
    "def velocity_obstacle(p1, v1, r1, p2, v2, r2):\n",
    "    \"\"\"\n",
    "    Computes the velocity obstacle for two agents in a 2D space.\n",
    "    \n",
    "    Parameters:\n",
    "    p1 (tuple): position of agent 1 (x, y)\n",
    "    v1 (tuple): velocity of agent 1 (x, y)\n",
    "    r1 (float): radius of agent 1\n",
    "    p2 (tuple): position of agent 2 (x, y)\n",
    "    v2 (tuple): velocity of agent 2 (x, y)\n",
    "    r2 (float): radius of agent 2\n",
    "    \n",
    "    Returns:\n",
    "    tuple: the two edges of the velocity obstacle (u1, u2)\n",
    "    \"\"\"\n",
    "    \n",
    "    # Compute relative velocity and position\n",
    "    rel_v = (v2[0] - v1[0], v2[1] - v1[1])\n",
    "    rel_p = (p2[0] - p1[0], p2[1] - p1[1])\n",
    "    \n",
    "    # Compute time to collision\n",
    "    a = rel_v[0] ** 2 + rel_v[1] ** 2\n",
    "    b = 2 * (rel_v[0] * rel_p[0] + rel_v[1] * rel_p[1])\n",
    "    c = rel_p[0] ** 2 + rel_p[1] ** 2 - (r1 + r2) ** 2\n",
    "    disc = b ** 2 - 4 * a * c\n",
    "    \n",
    "    if disc < 0:\n",
    "        # No collision possible, return full velocity space\n",
    "        return ([-math.inf, math.inf], [-math.inf, math.inf])\n",
    "    else:\n",
    "        t_coh = (-b - math.sqrt(disc)) / (2 * a)\n",
    "        \n",
    "        # Compute the edges of the velocity obstacle\n",
    "        u_tan = (rel_v[1], -rel_v[0])\n",
    "        u1 = (0, 0)\n",
    "        u2 = (0, 0)\n",
    "        \n",
    "        if t_coh > 0:\n",
    "            u1 = (rel_v[0] * t_coh + r1 * u_tan[0], rel_v[1] * t_coh + r1 * u_tan[1])\n",
    "            u2 = (rel_v[0] * t_coh - r2 * u_tan[0], rel_v[1] * t_coh - r2 * u_tan[1])\n",
    "        \n",
    "        return [u1, u2]"
   ]
  },
  {
   "cell_type": "code",
   "execution_count": null,
   "id": "66f6d0e1-0c50-4ace-b386-f382a5f90d11",
   "metadata": {},
   "outputs": [],
   "source": [
    "import matplotlib.pyplot as plt\n",
    "\n",
    "def plot_velocity_obstacle(p1, v1, r1, p2, v2, r2):\n",
    "    \"\"\"\n",
    "    Plots the velocity obstacle for two agents in a 2D space.\n",
    "    \n",
    "    Parameters:\n",
    "    p1 (tuple): position of agent 1 (x, y)\n",
    "    v1 (tuple): velocity of agent 1 (x, y)\n",
    "    r1 (float): radius of agent 1\n",
    "    p2 (tuple): position of agent 2 (x, y)\n",
    "    v2 (tuple): velocity of agent 2 (x, y)\n",
    "    r2 (float): radius of agent 2\n",
    "    \n",
    "    Returns:\n",
    "    None\n",
    "    \"\"\"\n",
    "    \n",
    "    # Compute velocity obstacle\n",
    "    u1, u2 = velocity_obstacle(p1, v1, r1, p2, v2, r2)\n",
    "    print(u1, u2)\n",
    "    # Create scatter plot\n",
    "    fig, ax = plt.subplots(figsize=(8, 8))\n",
    "    ax.scatter(v1[0], v1[1], color='blue', label='Agent 1 Velocity')\n",
    "    ax.scatter(v2[0], v2[1], color='orange', label='Agent 2 Velocity')\n",
    "    \n",
    "    # Draw line between edges of velocity obstacle\n",
    "    ax.plot([u1[0], u2[0]], [u1[1], u2[1]], color='red', label='Velocity Obstacle')\n",
    "    \n",
    "    # Set axis limits and labels\n",
    "    ax.set_xlim([min(v1[0], v2[0])-5, max(v1[0], v2[0])+5])\n",
    "    ax.set_ylim([min(v1[1], v2[1])-5, max(v1[1], v2[1])+5])\n",
    "    ax.set_xlabel('x')\n",
    "    ax.set_ylabel('y')\n",
    "    plt.grid()\n",
    "    ax.set_title('Velocity Obstacle')\n",
    "    \n",
    "    # Add legend\n",
    "    ax.legend()\n",
    "    \n",
    "    # Show plot\n",
    "    plt.show()\n"
   ]
  },
  {
   "cell_type": "code",
   "execution_count": null,
   "id": "b3f8ac06-2c38-41b0-8d54-c4b88fa94643",
   "metadata": {},
   "outputs": [],
   "source": [
    "ROBOT_RADIUS = 0.3\n",
    "OBS_RADIUS = 0.2\n",
    "ob = [4.5, 5.0]\n",
    "dt = 0.3\n",
    "x = [4.7, 4.7, math.pi / 8.0, 0.3, 0.0]\n",
    "\n",
    "# x\n",
    "vel_x = x[3] * math.cos(x[2]) * dt\n",
    "# y\n",
    "vel_y = x[3] * math.sin(x[2]) * dt"
   ]
  },
  {
   "cell_type": "code",
   "execution_count": null,
   "id": "e32fd4cd-84b0-45b7-b7f2-428d2be4b978",
   "metadata": {},
   "outputs": [],
   "source": [
    "plot_velocity_obstacle(p1=x[:2], v1=[vel_x, vel_y], r1=ROBOT_RADIUS, p2=ob, v2=[0, 0], r2=OBS_RADIUS)"
   ]
  },
  {
   "cell_type": "code",
   "execution_count": null,
   "id": "8ac89894-210a-4fd6-8113-af1f64a743fa",
   "metadata": {},
   "outputs": [],
   "source": []
  },
  {
   "cell_type": "markdown",
   "id": "8d451133-6eea-49f8-935c-6d56970469b2",
   "metadata": {},
   "source": [
    "# AAAA"
   ]
  },
  {
   "cell_type": "code",
   "execution_count": null,
   "id": "b97c0d50-1836-4c3e-b78f-dac34f311b65",
   "metadata": {},
   "outputs": [],
   "source": [
    "def velocity_obstacle(p1, v1, p2, v2, r):\n",
    "  # p1 and p2 are the positions of the two agents\n",
    "  # v1 and v2 are the velocities of the two agents\n",
    "  # r is the radius of the agents\n",
    "  # returns a set of velocities for agent 1 that would result in collision with agent 2\n",
    "\n",
    "  # compute the relative position and velocity\n",
    "  dp = p2 - p1\n",
    "  dv = v2 - v1\n",
    "\n",
    "  # compute the angle of the cone of possible collisions\n",
    "  theta = math.asin(r / np.linalg.norm(dp))\n",
    "\n",
    "  # compute the base and apex of the cone\n",
    "  base = dv - r * dp / np.linalg.norm(dp)\n",
    "  apex = dv + r * dp / np.linalg.norm(dp)\n",
    "\n",
    "  # compute the normalized vectors along the edges of the cone\n",
    "  e1 = base * math.cos(theta) - math.sin(theta) * np.array([-base[1], base[0]])\n",
    "  e1 = e1 / np.linalg.norm(e1)\n",
    "  e2 = base * math.cos(theta) + math.sin(theta) * np.array([-base[1], base[0]])\n",
    "  e2 = e2 / np.linalg.norm(e2)\n",
    "\n",
    "  # compute the half-plane equations for the edges of the cone\n",
    "  h1 = lambda v: np.dot(v - apex, e1)\n",
    "  h2 = lambda v: np.dot(v - apex, e2)\n",
    "\n",
    "  # define the velocity obstacle as the set of velocities that satisfy both half-plane equations\n",
    "  vo = lambda v: h1(v) >= 0 and h2(v) <= 0\n",
    "\n",
    "  return vo"
   ]
  }
 ],
 "metadata": {
  "kernelspec": {
   "display_name": "Python 3 (ipykernel)",
   "language": "python",
   "name": "python3"
  },
  "language_info": {
   "codemirror_mode": {
    "name": "ipython",
    "version": 3
   },
   "file_extension": ".py",
   "mimetype": "text/x-python",
   "name": "python",
   "nbconvert_exporter": "python",
   "pygments_lexer": "ipython3",
   "version": "3.10.6"
  }
 },
 "nbformat": 4,
 "nbformat_minor": 5
}
